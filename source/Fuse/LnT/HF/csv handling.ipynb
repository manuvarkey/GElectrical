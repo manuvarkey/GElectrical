{
 "cells": [
  {
   "cell_type": "code",
   "execution_count": 19,
   "id": "2e7366c9",
   "metadata": {},
   "outputs": [],
   "source": [
    "# Direct load\n",
    "\n",
    "import numpy as np\n",
    "\n",
    "ratings = [2,4,6,10,16,20,25,32,40,50,63]\n",
    "tol = 0.2\n",
    "toli = 0\n",
    "curves = {}\n",
    "for rating in ratings:\n",
    "    curves_in = np.loadtxt(str(rating)+'.csv', delimiter=',')\n",
    "    i = curves_in[:,0]\n",
    "    t = curves_in[:,1]\n",
    "    i1 = i/rating*(1+toli)\n",
    "    t1 = t*(1+tol)\n",
    "    i2 = i/rating*(1-toli)\n",
    "    t2 = t*(1-tol)\n",
    "    curves_out = np.column_stack((i1,t1,i2,t2))\n",
    "    curves[rating] = curves_out\n",
    "    np.savetxt('out/'+str(rating)+'.csv', curves[rating], delimiter=',')"
   ]
  },
  {
   "cell_type": "code",
   "execution_count": null,
   "id": "2d7d20b5",
   "metadata": {},
   "outputs": [],
   "source": []
  },
  {
   "cell_type": "code",
   "execution_count": null,
   "id": "4061325e",
   "metadata": {},
   "outputs": [],
   "source": [
    "# Curve fit\n",
    "\n",
    "import numpy as np\n",
    "\n",
    "ratings = [2,4,6,10,16,20,25,32,40,50,63]\n",
    "curves = {}\n",
    "for rating in ratings:\n",
    "    curves_in = np.loadtxt(str(rating)+'.csv', delimiter=',')\n",
    "    i = curves_in[:,0]\n",
    "    t = curves_in[:,1]\n",
    "    i1 = i/rating\n",
    "    t1 = t\n",
    "    curves_out = np.column_stack((i1,t1))\n",
    "    curves[rating] = curves_out\n"
   ]
  }
 ],
 "metadata": {
  "kernelspec": {
   "display_name": "Python 3 (ipykernel)",
   "language": "python",
   "name": "python3"
  },
  "language_info": {
   "codemirror_mode": {
    "name": "ipython",
    "version": 3
   },
   "file_extension": ".py",
   "mimetype": "text/x-python",
   "name": "python",
   "nbconvert_exporter": "python",
   "pygments_lexer": "ipython3",
   "version": "3.10.6"
  }
 },
 "nbformat": 4,
 "nbformat_minor": 5
}
