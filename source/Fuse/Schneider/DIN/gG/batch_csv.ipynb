{
 "cells": [
  {
   "cell_type": "code",
   "execution_count": 78,
   "id": "72473ce0",
   "metadata": {},
   "outputs": [],
   "source": [
    "import numpy as np\n",
    "import json\n",
    "import matplotlib.pyplot as plt\n",
    "\n",
    "def reduce(i, t):\n",
    "    i1 = i[0]\n",
    "    i2 = i[-1]\n",
    "    i_n = np.geomspace(i1,i2,num=50)\n",
    "    i_n_nd = np.tile(i_n, (len(i), 1))\n",
    "    i_nd = np.tile(i, (len(i_n), 1)).T\n",
    "    idx = (np.abs(i_n_nd - i_nd)).argmin(axis=0)\n",
    "    return i[idx], t[idx]"
   ]
  },
  {
   "cell_type": "code",
   "execution_count": 79,
   "id": "518a6e0b",
   "metadata": {},
   "outputs": [],
   "source": [
    "ratings = [2,4,6,10,16,20,25,32,40,50,63,80,100,125,160,200,250,315,400,500,630,800,1000,1250]\n",
    "curves = {}\n",
    "for rating in ratings:\n",
    "    filename = 'points_DIN_' + str(rating) +'.json'\n",
    "    with open(filename) as fp:\n",
    "        dict_in = json.load(fp)\n",
    "    pnt_data = dict_in['GetCurvesResult'][0]['Points']\n",
    "    i = np.array([row['X'] for row in pnt_data])/rating\n",
    "    t = np.array([row['Y'] for row in pnt_data])\n",
    "\n",
    "    points_n = np.argwhere(i == np.min(i))[0,0]\n",
    "    i_l = i[1:points_n+1][::-1]\n",
    "    t_l = t[1:points_n+1][::-1]\n",
    "    i_u = i[points_n+2:]\n",
    "    t_u = t[points_n+2:]\n",
    "\n",
    "    i_u, t_u = reduce(i_u, t_u)\n",
    "    i_l, t_l = reduce(i_l, t_l)\n",
    "    curves_out = np.column_stack((i_u,t_u,i_l,t_l))\n",
    "    curves[rating] = curves_out\n",
    "    np.savetxt('out/'+str(rating)+'_1.csv', curves[rating], delimiter=',')\n",
    "    curves[rating] = curves_out\n"
   ]
  },
  {
   "cell_type": "code",
   "execution_count": 81,
   "id": "b8b3194b",
   "metadata": {
    "scrolled": true
   },
   "outputs": [
    {
     "name": "stdout",
     "output_type": "stream",
     "text": [
      "Warning: Cannot change to a different GUI toolkit: widget. Using tk instead.\n"
     ]
    }
   ],
   "source": [
    "%matplotlib widget\n",
    "\n",
    "for rating in ratings:\n",
    "    i1 = curves[rating][:,0]\n",
    "    t1 = curves[rating][:,1]\n",
    "    i2 = curves[rating][:,2]\n",
    "    t2 = curves[rating][:,3]\n",
    "#     plt.plot(rating*i1, t1, 'r-', label=('d'+str(rating)))\n",
    "    plt.plot(rating*i2, t2, 'b-', label=('d'+str(rating)))\n",
    "    plt.xscale('log')\n",
    "    plt.yscale('log')\n",
    "    plt.xlim(1,100000)\n",
    "    plt.ylim(0.1,1e4)\n",
    "    plt.grid(True, which='major', alpha=1)\n",
    "    plt.grid(True, which='minor', alpha=0.5)\n",
    "\n",
    "#     plt.legend()"
   ]
  },
  {
   "cell_type": "code",
   "execution_count": null,
   "id": "c0cf61ea",
   "metadata": {},
   "outputs": [],
   "source": []
  }
 ],
 "metadata": {
  "kernelspec": {
   "display_name": "Python 3 (ipykernel)",
   "language": "python",
   "name": "python3"
  },
  "language_info": {
   "codemirror_mode": {
    "name": "ipython",
    "version": 3
   },
   "file_extension": ".py",
   "mimetype": "text/x-python",
   "name": "python",
   "nbconvert_exporter": "python",
   "pygments_lexer": "ipython3",
   "version": "3.10.12"
  }
 },
 "nbformat": 4,
 "nbformat_minor": 5
}
