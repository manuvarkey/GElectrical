{
 "cells": [
  {
   "cell_type": "markdown",
   "id": "8bc643e6",
   "metadata": {},
   "source": [
    "MCB Curve estimation by fitting to IEC curves"
   ]
  },
  {
   "cell_type": "code",
   "execution_count": 2,
   "id": "8121fef1",
   "metadata": {},
   "outputs": [
    {
     "data": {
      "text/latex": [
       "$\\displaystyle t = \\frac{K}{\\frac{I^{2}}{In^{2}} - 1}$"
      ],
      "text/plain": [
       "Eq(t, K/(I**2/In**2 - 1))"
      ]
     },
     "metadata": {},
     "output_type": "display_data"
    }
   ],
   "source": [
    "import sympy as sp\n",
    "\n",
    "t, K, I, In, a = sp.symbols('t K I In a')\n",
    "relay_eq = sp.Eq(t, K/((I/In)**2 - 1))\n",
    "a_val = 2\n",
    "tu1 = 60\n",
    "tu2 = 120\n",
    "tl = 1\n",
    "display(relay_eq)"
   ]
  },
  {
   "cell_type": "code",
   "execution_count": 3,
   "id": "c758053c",
   "metadata": {},
   "outputs": [
    {
     "data": {
      "text/plain": [
       "([K], {(125.564803804994,)})"
      ]
     },
     "metadata": {},
     "output_type": "display_data"
    }
   ],
   "source": [
    "# Curve upper <= 32A\n",
    "equations = [ relay_eq.subs([(In,1.45),(t,tu1),(I,2.55)]),]\n",
    "solution_set = sp.solve(equations, In, K, set = True) \n",
    "display(solution_set)"
   ]
  },
  {
   "cell_type": "code",
   "execution_count": 4,
   "id": "d1b5e08c",
   "metadata": {},
   "outputs": [
    {
     "data": {
      "text/plain": [
       "([K], {(251.129607609988,)})"
      ]
     },
     "metadata": {},
     "output_type": "display_data"
    }
   ],
   "source": [
    "# Curve upper > 32A\n",
    "equations = [ relay_eq.subs([(In,1.45),(t,tu2),(I,2.55)]),]\n",
    "solution_set = sp.solve(equations, In, K, set = True) \n",
    "display(solution_set)"
   ]
  },
  {
   "cell_type": "code",
   "execution_count": 5,
   "id": "fd5f66ea",
   "metadata": {
    "scrolled": false
   },
   "outputs": [
    {
     "data": {
      "text/plain": [
       "([K], {(4.09241130863810,)})"
      ]
     },
     "metadata": {},
     "output_type": "display_data"
    }
   ],
   "source": [
    "# Curve lower\n",
    "equations = [ relay_eq.subs([(In,1.13), (t,tl),(I,2.55)]),]\n",
    "solution_set = sp.solve(equations, In, K, set = True) \n",
    "display(solution_set)"
   ]
  },
  {
   "cell_type": "code",
   "execution_count": null,
   "id": "b5228357",
   "metadata": {},
   "outputs": [],
   "source": []
  }
 ],
 "metadata": {
  "kernelspec": {
   "display_name": "Python 3 (ipykernel)",
   "language": "python",
   "name": "python3"
  },
  "language_info": {
   "codemirror_mode": {
    "name": "ipython",
    "version": 3
   },
   "file_extension": ".py",
   "mimetype": "text/x-python",
   "name": "python",
   "nbconvert_exporter": "python",
   "pygments_lexer": "ipython3",
   "version": "3.10.12"
  }
 },
 "nbformat": 4,
 "nbformat_minor": 5
}
