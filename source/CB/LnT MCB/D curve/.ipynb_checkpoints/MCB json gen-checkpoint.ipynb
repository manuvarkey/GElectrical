{
 "cells": [
  {
   "cell_type": "code",
   "execution_count": 1,
   "id": "dbfd0fc7",
   "metadata": {},
   "outputs": [],
   "source": [
    "import numpy as np\n",
    "import matplotlib.pyplot as plt\n",
    "import json"
   ]
  },
  {
   "cell_type": "code",
   "execution_count": 3,
   "id": "36478533",
   "metadata": {},
   "outputs": [
    {
     "data": {
      "text/plain": [
       "array([ 1.55,  1.79,  2.08,  2.46,  3.  ,  3.72,  4.64,  5.77,  7.19,\n",
       "        8.95, 11.14, 13.87, 17.27, 19.96])"
      ]
     },
     "metadata": {},
     "output_type": "display_data"
    },
    {
     "data": {
      "text/plain": [
       "array([2.29612e+03, 8.85220e+02, 3.50350e+02, 1.38690e+02, 5.48200e+01,\n",
       "       2.41300e+01, 1.26400e+01, 7.75000e+00, 5.34000e+00, 4.00000e+00,\n",
       "       3.19000e+00, 2.64000e+00, 2.23000e+00, 2.02000e+00])"
      ]
     },
     "metadata": {},
     "output_type": "display_data"
    },
    {
     "data": {
      "text/plain": [
       "array([1.2 , 1.36, 1.57, 1.86, 2.27, 2.82, 3.51, 4.37, 5.44, 6.78, 8.44,\n",
       "       9.96])"
      ]
     },
     "metadata": {},
     "output_type": "display_data"
    },
    {
     "data": {
      "text/plain": [
       "array([2.20683e+03, 8.49740e+02, 3.29090e+02, 1.28250e+02, 5.09300e+01,\n",
       "       2.22100e+01, 1.12900e+01, 6.52000e+00, 3.96000e+00, 2.47000e+00,\n",
       "       1.64000e+00, 1.29000e+00])"
      ]
     },
     "metadata": {},
     "output_type": "display_data"
    }
   ],
   "source": [
    "curve_u = np.genfromtxt('curve_u.csv', delimiter=',', dtype=float)\n",
    "i_u = np.round(curve_u[:, 0],2)\n",
    "t_u = np.round(curve_u[:, 1],2)\n",
    "display(i_u, t_u)\n",
    "\n",
    "curve_l = np.genfromtxt('curve_l.csv', delimiter=',', dtype=float)\n",
    "i_l = np.round(curve_l[:, 0],2)\n",
    "t_l = np.round(curve_l[:, 1],2)\n",
    "display(i_l, t_l)"
   ]
  },
  {
   "cell_type": "code",
   "execution_count": 4,
   "id": "f44b1b6d",
   "metadata": {},
   "outputs": [
    {
     "data": {
      "text/plain": [
       "<matplotlib.legend.Legend at 0x7f28b83bad70>"
      ]
     },
     "execution_count": 4,
     "metadata": {},
     "output_type": "execute_result"
    },
    {
     "data": {
      "image/png": "[encoded data removed]",
      "text/plain": [
       "<Figure size 432x288 with 1 Axes>"
      ]
     },
     "metadata": {
      "needs_background": "light"
     },
     "output_type": "display_data"
    }
   ],
   "source": [
    "xdata = np.array(i_u)\n",
    "ydata = np.array(t_u)\n",
    "plt.plot(xdata, ydata, 'r-', label='upper')\n",
    "\n",
    "xdata = np.array(i_l)\n",
    "ydata = np.array(t_l)\n",
    "plt.plot(xdata, ydata, 'b-', label='lower')\n",
    "\n",
    "plt.xscale('log')\n",
    "plt.yscale('log')\n",
    "plt.grid(True, which='major', alpha=1)\n",
    "plt.grid(True, which='minor', alpha=0.5)\n",
    "plt.legend()"
   ]
  },
  {
   "cell_type": "code",
   "execution_count": 6,
   "id": "51fa3e25",
   "metadata": {},
   "outputs": [],
   "source": [
    "i_m_min_s = '10*f.In'\n",
    "i_m_max_s = '20*f.In'\n",
    "T_conv = '3600 if f.In <= 63  else 2*3600'\n",
    "curve_u = [ ('point', '1.45*f.In', T_conv),\n",
    "            (\"POINTS\", 1, \"f.In\", 0, i_m_max_s, 0.01, list(i_u), list(t_u)),\n",
    "            ('point', i_m_max_s, 0.01),\n",
    "            ('point', '1000*f.Isc', 0.01)]\n",
    "curve_l = [ ('point', '1.13*f.In', T_conv),\n",
    "            (\"POINTS\", 1, \"f.In\", 0, i_m_min_s, 0.001, list(i_l), list(t_l)),\n",
    "            ('point', i_m_min_s, 0.001),\n",
    "            ('point', '1000*f.Isc', 0.001)]\n",
    "curves = {'curve_u': curve_u, 'curve_l': curve_l}\n",
    "parameters = {}\n",
    "             \n",
    "data = {'type'          : 'protection',\n",
    "        'parameters'    : parameters,\n",
    "        'data'          : curves,\n",
    "        'graph_model'   : []}\n",
    "\n",
    "with open('lnt_mcb_d.json', 'w') as fp:\n",
    "    json.dump(data, fp, indent=2)"
   ]
  },
  {
   "cell_type": "code",
   "execution_count": null,
   "id": "7e34d4e4",
   "metadata": {},
   "outputs": [],
   "source": []
  }
 ],
 "metadata": {
  "kernelspec": {
   "display_name": "Python 3 (ipykernel)",
   "language": "python",
   "name": "python3"
  },
  "language_info": {
   "codemirror_mode": {
    "name": "ipython",
    "version": 3
   },
   "file_extension": ".py",
   "mimetype": "text/x-python",
   "name": "python",
   "nbconvert_exporter": "python",
   "pygments_lexer": "ipython3",
   "version": "3.10.12"
  }
 },
 "nbformat": 4,
 "nbformat_minor": 5
}
