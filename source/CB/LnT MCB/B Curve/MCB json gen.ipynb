{
 "cells": [
  {
   "cell_type": "code",
   "execution_count": 1,
   "id": "dbfd0fc7",
   "metadata": {},
   "outputs": [],
   "source": [
    "import numpy as np\n",
    "import matplotlib.pyplot as plt\n",
    "import json"
   ]
  },
  {
   "cell_type": "code",
   "execution_count": 2,
   "id": "36478533",
   "metadata": {},
   "outputs": [
    {
     "data": {
      "text/plain": [
       "array([1.46, 1.51, 1.64, 1.78, 1.96, 2.2 , 2.56, 3.04, 3.6 , 4.27, 4.99])"
      ]
     },
     "metadata": {},
     "output_type": "display_data"
    },
    {
     "data": {
      "text/plain": [
       "array([3594.76, 2611.32, 1187.15,  553.53,  254.85,  117.48,   56.18,\n",
       "         30.63,   18.55,   11.31,    7.21])"
      ]
     },
     "metadata": {},
     "output_type": "display_data"
    },
    {
     "data": {
      "text/plain": [
       "array([1.14, 1.16, 1.25, 1.35, 1.47, 1.62, 1.83, 2.11, 2.48, 3.01])"
      ]
     },
     "metadata": {},
     "output_type": "display_data"
    },
    {
     "data": {
      "text/plain": [
       "array([3594.76, 2652.75, 1164.74,  521.3 ,  237.74,  110.03,   51.61,\n",
       "         24.03,   11.62,    5.24])"
      ]
     },
     "metadata": {},
     "output_type": "display_data"
    }
   ],
   "source": [
    "curve_u = np.genfromtxt('curve_u.csv', delimiter=',', dtype=float)\n",
    "i_u = np.round(curve_u[:, 0],2)\n",
    "t_u = np.round(curve_u[:, 1],2)\n",
    "display(i_u, t_u)\n",
    "\n",
    "curve_l = np.genfromtxt('curve_l.csv', delimiter=',', dtype=float)\n",
    "i_l = np.round(curve_l[:, 0],2)\n",
    "t_l = np.round(curve_l[:, 1],2)\n",
    "display(i_l, t_l)"
   ]
  },
  {
   "cell_type": "code",
   "execution_count": 3,
   "id": "f44b1b6d",
   "metadata": {},
   "outputs": [
    {
     "data": {
      "text/plain": [
       "<matplotlib.legend.Legend at 0x7fcec8011030>"
      ]
     },
     "execution_count": 3,
     "metadata": {},
     "output_type": "execute_result"
    },
    {
     "data": {
      "image/png": "[encoded data removed]",
      "text/plain": [
       "<Figure size 432x288 with 1 Axes>"
      ]
     },
     "metadata": {
      "needs_background": "light"
     },
     "output_type": "display_data"
    }
   ],
   "source": [
    "i_u = [1.45, 1.51, 1.64, 1.78, 1.96, 2.2 , 2.56, 3.04, 3.6 , 4.27, 5]\n",
    "t_u = [3600, 2611.32, 1187.15, 553.53, 254.85, 117.48, 56.18, 30.63, 18.55, 11.31, 7.21]\n",
    "i_l = [1.13, 1.16, 1.25, 1.35, 1.47, 1.62, 1.83, 2.11, 2.48, 3]\n",
    "t_l = [3600, 2652.75, 1164.74,  521.3 ,  237.74,  110.03,   51.61, 24.03,   11.62,    5.24]\n",
    "\n",
    "xdata = np.array(i_u)\n",
    "ydata = np.array(t_u)\n",
    "plt.plot(xdata, ydata, 'r-', label='upper')\n",
    "\n",
    "xdata = np.array(i_l)\n",
    "ydata = np.array(t_l)\n",
    "plt.plot(xdata, ydata, 'b-', label='lower')\n",
    "\n",
    "plt.xscale('log')\n",
    "plt.yscale('log')\n",
    "plt.grid(True, which='major', alpha=1)\n",
    "plt.grid(True, which='minor', alpha=0.5)\n",
    "plt.legend()"
   ]
  },
  {
   "cell_type": "code",
   "execution_count": 4,
   "id": "51fa3e25",
   "metadata": {},
   "outputs": [],
   "source": [
    "i_m_min_s = '3*f.In'\n",
    "i_m_max_s = '5*f.In'\n",
    "T_conv = '3600 if f.In <= 63  else 2*3600'\n",
    "curve_u = [ ('point', '1.45*f.In', T_conv),\n",
    "            (\"POINTS\", 1, \"f.In\", 0, i_m_max_s, 0.01, list(i_u), list(t_u)),\n",
    "            ('point', i_m_max_s, 0.01),\n",
    "            ('point', '1000*f.Isc', 0.01)]\n",
    "curve_l = [ ('point', '1.13*f.In', T_conv),\n",
    "            (\"POINTS\", 1, \"f.In\", 0, i_m_min_s, 0.001, list(i_l), list(t_l)),\n",
    "            ('point', i_m_min_s, 0.001),\n",
    "            ('point', '1000*f.Isc', 0.001)]\n",
    "curves = {'curve_u': curve_u, 'curve_l': curve_l}\n",
    "parameters = {}\n",
    "             \n",
    "data = {'type'          : 'protection',\n",
    "        'parameters'    : parameters,\n",
    "        'data'          : curves,\n",
    "        'graph_model'   : []}\n",
    "\n",
    "with open('lnt_mcb_b.json', 'w') as fp:\n",
    "    json.dump(data, fp, indent=2)"
   ]
  },
  {
   "cell_type": "code",
   "execution_count": null,
   "id": "7e34d4e4",
   "metadata": {},
   "outputs": [],
   "source": []
  }
 ],
 "metadata": {
  "kernelspec": {
   "display_name": "Python 3 (ipykernel)",
   "language": "python",
   "name": "python3"
  },
  "language_info": {
   "codemirror_mode": {
    "name": "ipython",
    "version": 3
   },
   "file_extension": ".py",
   "mimetype": "text/x-python",
   "name": "python",
   "nbconvert_exporter": "python",
   "pygments_lexer": "ipython3",
   "version": "3.10.12"
  }
 },
 "nbformat": 4,
 "nbformat_minor": 5
}
