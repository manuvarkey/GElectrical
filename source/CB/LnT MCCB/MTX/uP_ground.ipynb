{
 "cells": [
  {
   "cell_type": "code",
   "execution_count": 15,
   "id": "ace6f8f9-c095-4795-8e26-c2d169b636ca",
   "metadata": {},
   "outputs": [],
   "source": [
    "curve_u = []\n",
    "curve_l = []\n",
    "curves = {}\n",
    "parameters = dict()\n",
    "\n",
    "In = 'f.I0'\n",
    "Isc = '1000*f.Isc'\n",
    "\n",
    "tol_im_p = 10\n",
    "tol_im_m = 10\n",
    "\n",
    "tol_tm_p = 10\n",
    "tol_tm_m = 10\n",
    "\n",
    "select_expr_list = ['d.trip_on is True', 'd.trip_on is False']\n",
    "\n",
    "def get_curves(Ir, I1, T_conv, Im, Tm):\n",
    "    k_I2T = str(i_i2t**2) + '*d.t_m'\n",
    "    # M\n",
    "    curve = [('point', I1, T_conv),\n",
    "                ('point', I1, Tm),\n",
    "                ('point', Isc, Tm)]\n",
    "    return curve\n",
    "\n",
    "# Upper curves\n",
    "Ir = In\n",
    "T_conv = '3600 if f.In <= 63  else 2*3600'\n",
    "Im = 'd.i_m*' + Ir + '*' + str((100+tol_im_p)/100)\n",
    "I1 = Im\n",
    "Tm = 'd.t_m*' + str((100+tol_tm_p)/100)\n",
    "curve_u1 = get_curves(Ir, I1, T_conv, Im, Tm)\n",
    "# Lower curves\n",
    "Ir = In\n",
    "T_conv = '3600 if f.In <= 63  else 2*3600'\n",
    "Im = 'd.i_m*' + Ir + '*' + str((100-tol_im_m)/100)\n",
    "I1 = Im\n",
    "Tm = 'd.t_m*' + str((100-tol_tm_m)/100)\n",
    "curve_l1 = get_curves(Ir, I1, T_conv, Im, Tm)\n",
    "\n",
    "parameters = {  \"trip_on\" : [\"Trip unit enabled ?\", \"\", False, None, \"Whether trip unit is enabled\", \"bool\"],\n",
    "                'i_m'       : ['Ig', 'xI0', 0.2, [0.2,0.3,0.4,0.5], 'Ground fault pickup current'],\n",
    "                't_m'       : ['tg', 's', 0.1, [0.1,0.2], 'Short-time tripping delay'],\n",
    "            }\n",
    "\n",
    "curves = {'select_expr_list': select_expr_list,\n",
    "          'curve_u1': curve_u1, 'curve_l1': curve_l1,\n",
    "         'curve_u2': [], 'curve_l2': []}\n"
   ]
  },
  {
   "cell_type": "code",
   "execution_count": 16,
   "id": "b60d8618-58a9-424b-97e5-f05548cdc38c",
   "metadata": {},
   "outputs": [],
   "source": [
    "import json, re\n",
    "\n",
    "data = {'type'          : 'protection',\n",
    "        'parameters'    : parameters,\n",
    "        'data'          : curves,\n",
    "        'graph_model'   : []}\n",
    "\n",
    "with open('mtx_1_2_g.json', 'w') as fp:\n",
    "    json.dump(data, fp, indent=2)\n",
    "\n",
    "# output = json.dumps(data, indent=2)\n",
    "# output2 = re.sub(r'\": \\[\\s+', '\": [', output)\n",
    "# output3 = re.sub(r'\",\\s+', '\", ', output2)\n",
    "# output4 = re.sub(r'\"\\s+\\]', '\"]', output3)\n",
    "\n",
    "# with open('legrand_uP.json', 'w') as fp:\n",
    "#     fp.write(output4)"
   ]
  },
  {
   "cell_type": "code",
   "execution_count": null,
   "id": "482a6df0",
   "metadata": {},
   "outputs": [],
   "source": []
  }
 ],
 "metadata": {
  "kernelspec": {
   "display_name": "Python 3 (ipykernel)",
   "language": "python",
   "name": "python3"
  },
  "language_info": {
   "codemirror_mode": {
    "name": "ipython",
    "version": 3
   },
   "file_extension": ".py",
   "mimetype": "text/x-python",
   "name": "python",
   "nbconvert_exporter": "python",
   "pygments_lexer": "ipython3",
   "version": "3.10.12"
  }
 },
 "nbformat": 4,
 "nbformat_minor": 5
}
