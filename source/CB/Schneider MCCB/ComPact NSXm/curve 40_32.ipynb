{
 "cells": [
  {
   "cell_type": "code",
   "execution_count": 1,
   "id": "3e5690e9-162a-4932-b6fe-8c9ca9881b4b",
   "metadata": {
    "scrolled": true
   },
   "outputs": [],
   "source": [
    "filename = 'points_NSXm_TMD_40_32_28.json'\n",
    "In = 28\n",
    "\n",
    "import numpy as np\n",
    "import json\n",
    "\n",
    "def get_relay_curve(In=1, order=4, C=1):\n",
    "    def relay_curve(I, *ks):\n",
    "        t = 0\n",
    "        for order, k in enumerate(ks):\n",
    "            t += k*np.log10((I/In)-C)**order\n",
    "        return 10**t\n",
    "    return relay_curve\n",
    "\n",
    "with open(filename) as f:\n",
    "    data = json.load(f)['Points']\n",
    "\n",
    "x = np.array([row['X'] for row in data])/In\n",
    "y = np.array([row['Y'] for row in data])\n",
    "points_n = np.argwhere(x == np.min(x))[0,0]\n",
    "i_l = x[3:points_n][::-1]\n",
    "t_l = y[3:points_n][::-1]\n",
    "i_u = x[points_n+3:]\n",
    "t_u = y[points_n+3:]\n",
    "\n",
    "l_filter = t_l <= 3600*2\n",
    "u_filter = t_u <= 3600*2\n",
    "i_l = i_l[l_filter]\n",
    "t_l = t_l[l_filter]\n",
    "i_u = i_u[u_filter]\n",
    "t_u = t_u[u_filter]\n",
    "\n",
    "def reduce(i, t):\n",
    "    i1 = i[0]\n",
    "    i2 = i[-1]\n",
    "    i_n = np.geomspace(i1,i2,num=50)\n",
    "    i_n_nd = np.tile(i_n, (len(i), 1))\n",
    "    i_nd = np.tile(i, (len(i_n), 1)).T\n",
    "    idx = (np.abs(i_n_nd - i_nd)).argmin(axis=0)\n",
    "    return i[idx], t[idx]\n",
    "\n",
    "i_u, t_u = reduce(i_u, t_u)\n",
    "i_l, t_l = reduce(i_l, t_l)"
   ]
  },
  {
   "cell_type": "code",
   "execution_count": 2,
   "id": "7cc30f7a-4cab-444a-ade1-937312bed659",
   "metadata": {
    "scrolled": true
   },
   "outputs": [
    {
     "name": "stdout",
     "output_type": "stream",
     "text": [
      "Using matplotlib backend: TkAgg\n"
     ]
    },
    {
     "data": {
      "text/plain": [
       "<matplotlib.legend.Legend at 0x7f662af95d80>"
      ]
     },
     "execution_count": 2,
     "metadata": {},
     "output_type": "execute_result"
    }
   ],
   "source": [
    "import matplotlib.pyplot as plt\n",
    "%matplotlib auto\n",
    "\n",
    "plt.plot(i_u, t_u, 'b-', label='upper')\n",
    "plt.plot(i_l, t_l, 'r-', label='lower')\n",
    "plt.xscale('log')\n",
    "plt.yscale('log')\n",
    "plt.xlim(1,100)\n",
    "plt.ylim(0.1,1e4)\n",
    "plt.grid(True, which='major', alpha=1)\n",
    "plt.grid(True, which='minor', alpha=0.5)\n",
    "plt.legend()"
   ]
  },
  {
   "cell_type": "code",
   "execution_count": 3,
   "id": "1ec151c7-279f-480a-a2f6-7a7931b9ec46",
   "metadata": {},
   "outputs": [
    {
     "data": {
      "text/plain": [
       "[2.17722, -2.01847, -0.34372, 0.92348, 0.24174, -0.44728, -0.07033, 0.06749]"
      ]
     },
     "metadata": {},
     "output_type": "display_data"
    }
   ],
   "source": [
    "# Curve fitting upper\n",
    "\n",
    "In = 1.28\n",
    "order=7\n",
    "relay_curve = get_relay_curve(In, order)\n",
    "\n",
    "xdata = np.array(i_u)\n",
    "ydata = np.array(t_u)\n",
    "\n",
    "xdata_mod = np.log10((xdata/In) -1)\n",
    "ydata_mod = np.log10(ydata)\n",
    "coeff = np.polyfit(xdata_mod, ydata_mod, order)[::-1]\n",
    "\n",
    "plt.plot(xdata, ydata, 'b-', label='data')\n",
    "x = np.geomspace(min(xdata), 45, num=100)\n",
    "plt.plot(x, relay_curve(x, *list(coeff)), 'r-', label='fit')\n",
    "plt.xscale('log')\n",
    "plt.yscale('log')\n",
    "plt.grid(True, which='major', alpha=1)\n",
    "plt.grid(True, which='minor', alpha=0.5)\n",
    "plt.legend()\n",
    "display(list(np.round(coeff,5)))"
   ]
  },
  {
   "cell_type": "code",
   "execution_count": 4,
   "id": "3ae4641f-8167-4577-b983-824127594809",
   "metadata": {},
   "outputs": [
    {
     "data": {
      "text/plain": [
       "[1.31295, -1.88771, -0.08583, 0.66854, 0.23135, -0.22075, -0.10873, -0.00715]"
      ]
     },
     "metadata": {},
     "output_type": "display_data"
    }
   ],
   "source": [
    "# Curve fitting lower\n",
    "\n",
    "In=1.03\n",
    "order=7\n",
    "relay_curve = get_relay_curve(In, order)\n",
    "\n",
    "xdata = np.array(i_l)\n",
    "ydata = np.array(t_l)\n",
    "\n",
    "xdata_mod = np.log10((xdata/In) -1)\n",
    "ydata_mod = np.log10(ydata)\n",
    "coeff = np.polyfit(xdata_mod, ydata_mod, order)[::-1]\n",
    "\n",
    "plt.plot(xdata, ydata, 'b-', label='data')\n",
    "x = np.geomspace(min(xdata), 30, num=100)\n",
    "plt.plot(x, relay_curve(x, *list(coeff)), 'r-', label='fit')\n",
    "plt.xscale('log')\n",
    "plt.yscale('log')\n",
    "plt.grid(True, which='major', alpha=1)\n",
    "plt.grid(True, which='minor', alpha=0.5)\n",
    "plt.legend()\n",
    "display(list(np.round(coeff,5)))"
   ]
  },
  {
   "cell_type": "code",
   "execution_count": 5,
   "id": "65195191",
   "metadata": {},
   "outputs": [
    {
     "name": "stdout",
     "output_type": "stream",
     "text": [
      "1.0335714285714286 1.3014285714285752\n",
      "[1.30143, 1.38357, 1.46929, 1.56214, 1.65857, 1.76571, 1.87643, 1.99429, 2.11929, 2.25143, 2.39071, 2.54071, 2.70143, 2.86929, 3.05143, 3.24429, 3.44786, 3.68, 3.89429, 4.14429, 4.39429, 4.68, 4.96571, 5.28714, 5.60857, 5.96571, 6.32286, 6.71571, 7.14429, 7.60857, 8.07286, 8.57286, 9.10857, 9.71571, 10.32286, 10.96571, 11.64429, 12.35857, 13.14429, 13.96571, 14.85857, 15.78714, 16.78714, 17.82286, 18.93, 20.14429, 21.39429, 22.75143, 24.18, 25.68] \n",
      "\n",
      "[6984.38825, 3582.55596, 2287.94159, 1547.48483, 1077.96881, 794.62522, 590.87056, 439.14637, 333.77243, 260.19327, 203.21775, 158.17964, 122.87879, 99.06768, 79.61004, 64.03347, 51.58293, 42.33073, 35.7067, 29.6143, 24.83212, 21.13379, 18.24726, 15.6204, 13.49497, 11.83724, 10.55837, 9.55284, 8.75965, 8.01994, 7.38119, 6.78511, 6.23262, 5.6938, 5.23016, 4.80564, 4.41787, 4.06429, 3.728, 3.42442, 3.13961, 2.88394, 2.64613, 2.43321, 2.23617, 2.0496, 1.8838, 1.72825, 1.58689, 1.45855] \n",
      "\n",
      "[1.03357, 1.09429, 1.15857, 1.22643, 1.29786, 1.37643, 1.45857, 1.54429, 1.63357, 1.73, 1.83357, 1.94071, 2.055, 2.17643, 2.30143, 2.43714, 2.58357, 2.73357, 2.89429, 3.06571, 3.24786, 3.43714, 3.64429, 3.85857, 4.07286, 4.32286, 4.57286, 4.85857, 5.14429, 5.43, 5.75143, 6.10857, 6.46571, 6.82286, 7.25143, 7.64429, 8.10857, 8.57286, 9.10857, 9.64429, 10.21571, 10.78714, 11.43, 12.10857, 12.82286, 13.57286, 14.39429, 15.21571, 16.10857, 17.07286] \n",
      "\n",
      "[4442.88751, 1075.23245, 498.50718, 299.03056, 190.67027, 131.03903, 96.98655, 72.10482, 53.85661, 42.35886, 33.4347, 26.53646, 21.0247, 16.65836, 13.96322, 11.65057, 9.68874, 8.10605, 6.76705, 5.78777, 5.03629, 4.39369, 3.81581, 3.325, 2.91897, 2.59108, 2.34442, 2.10476, 1.93586, 1.81961, 1.70358, 1.58996, 1.48975, 1.40075, 1.30631, 1.22969, 1.14936, 1.07833, 1.00598, 0.94222, 0.88209, 0.82876, 0.77558, 0.72599, 0.67984, 0.63698, 0.59551, 0.55882, 0.52348, 0.48975] \n",
      "\n"
     ]
    }
   ],
   "source": [
    "print(np.min(i_l), np.min(i_u))\n",
    "print(json.dumps(list(np.round(i_u, 5))), '\\n')\n",
    "print(json.dumps(list(np.round(t_u, 5))), '\\n')\n",
    "print(json.dumps(list(np.round(i_l, 5))), '\\n')\n",
    "print(json.dumps(list(np.round(t_l, 5))), '\\n')"
   ]
  },
  {
   "cell_type": "code",
   "execution_count": null,
   "id": "fc41243c",
   "metadata": {},
   "outputs": [],
   "source": []
  }
 ],
 "metadata": {
  "kernelspec": {
   "display_name": "Python 3 (ipykernel)",
   "language": "python",
   "name": "python3"
  },
  "language_info": {
   "codemirror_mode": {
    "name": "ipython",
    "version": 3
   },
   "file_extension": ".py",
   "mimetype": "text/x-python",
   "name": "python",
   "nbconvert_exporter": "python",
   "pygments_lexer": "ipython3",
   "version": "3.10.12"
  }
 },
 "nbformat": 4,
 "nbformat_minor": 5
}
