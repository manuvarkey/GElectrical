{
 "cells": [
  {
   "cell_type": "code",
   "execution_count": null,
   "id": "3e5690e9-162a-4932-b6fe-8c9ca9881b4b",
   "metadata": {
    "scrolled": true
   },
   "outputs": [],
   "source": [
    "filename = 'points_NSXm_TMD_25_16_11_2.json'\n",
    "In = 11.2\n",
    "\n",
    "\n",
    "import numpy as np\n",
    "import json\n",
    "\n",
    "def get_relay_curve(In=1, order=4, C=1):\n",
    "    def relay_curve(I, *ks):\n",
    "        t = 0\n",
    "        for order, k in enumerate(ks):\n",
    "            t += k*np.log10((I/In)-C)**order\n",
    "        return 10**t\n",
    "    return relay_curve\n",
    "\n",
    "with open(filename) as f:\n",
    "    data = json.load(f)['Points']\n",
    "\n",
    "x = np.array([row['X'] for row in data])/In\n",
    "y = np.array([row['Y'] for row in data])\n",
    "points_n = np.argwhere(x == np.min(x))[0,0]\n",
    "i_l = x[3:points_n][::-1]\n",
    "t_l = y[3:points_n][::-1]\n",
    "i_u = x[points_n+3:]\n",
    "t_u = y[points_n+3:]\n",
    "\n",
    "l_filter = t_l <= 3600*2\n",
    "u_filter = t_u <= 3600*2\n",
    "i_l = i_l[l_filter]\n",
    "t_l = t_l[l_filter]\n",
    "i_u = i_u[u_filter]\n",
    "t_u = t_u[u_filter]\n",
    "\n",
    "def reduce(i, t):\n",
    "    i1 = i[0]\n",
    "    i2 = i[-1]\n",
    "    i_n = np.geomspace(i1,i2,num=50)\n",
    "    i_n_nd = np.tile(i_n, (len(i), 1))\n",
    "    i_nd = np.tile(i, (len(i_n), 1)).T\n",
    "    idx = (np.abs(i_n_nd - i_nd)).argmin(axis=0)\n",
    "    return i[idx], t[idx]\n",
    "\n",
    "i_u, t_u = reduce(i_u, t_u)\n",
    "i_l, t_l = reduce(i_l, t_l)"
   ]
  },
  {
   "cell_type": "code",
   "execution_count": 18,
   "id": "7cc30f7a-4cab-444a-ade1-937312bed659",
   "metadata": {
    "scrolled": true
   },
   "outputs": [
    {
     "name": "stdout",
     "output_type": "stream",
     "text": [
      "Using matplotlib backend: TkAgg\n"
     ]
    },
    {
     "data": {
      "text/plain": [
       "<matplotlib.legend.Legend at 0x7fa7b0cb05b0>"
      ]
     },
     "execution_count": 18,
     "metadata": {},
     "output_type": "execute_result"
    }
   ],
   "source": [
    "import matplotlib.pyplot as plt\n",
    "%matplotlib auto\n",
    "\n",
    "plt.plot(i_u, t_u, 'b-', label='upper')\n",
    "plt.plot(i_l, t_l, 'r-', label='lower')\n",
    "plt.xscale('log')\n",
    "plt.yscale('log')\n",
    "plt.xlim(1,100)\n",
    "plt.ylim(0.1,1e4)\n",
    "plt.grid(True, which='major', alpha=1)\n",
    "plt.grid(True, which='minor', alpha=0.5)\n",
    "plt.legend()"
   ]
  },
  {
   "cell_type": "code",
   "execution_count": 37,
   "id": "1ec151c7-279f-480a-a2f6-7a7931b9ec46",
   "metadata": {},
   "outputs": [
    {
     "data": {
      "text/plain": [
       "[2.2561, -1.81685, -0.45015, 0.48887, 0.30303, -0.0952, -0.07088]"
      ]
     },
     "metadata": {},
     "output_type": "display_data"
    }
   ],
   "source": [
    "# Curve fitting upper\n",
    "\n",
    "In = 1.28\n",
    "order=6\n",
    "relay_curve = get_relay_curve(In, order)\n",
    "\n",
    "xdata = np.array(i_u)\n",
    "ydata = np.array(t_u)\n",
    "\n",
    "xdata_mod = np.log10((xdata/In) -1)\n",
    "ydata_mod = np.log10(ydata)\n",
    "coeff = np.polyfit(xdata_mod, ydata_mod, order)[::-1]\n",
    "\n",
    "plt.plot(xdata, ydata, 'b-', label='data')\n",
    "x = np.geomspace(min(xdata), 45, num=100)\n",
    "plt.plot(x, relay_curve(x, *list(coeff)), 'r-', label='fit')\n",
    "plt.xscale('log')\n",
    "plt.yscale('log')\n",
    "plt.grid(True, which='major', alpha=1)\n",
    "plt.grid(True, which='minor', alpha=0.5)\n",
    "plt.legend()\n",
    "display(list(np.round(coeff,5)))"
   ]
  },
  {
   "cell_type": "code",
   "execution_count": 40,
   "id": "3ae4641f-8167-4577-b983-824127594809",
   "metadata": {},
   "outputs": [
    {
     "data": {
      "text/plain": [
       "[1.51107, -1.76534, -0.20344, 0.5632, 0.25239, -0.20003, -0.05773, 0.01754]"
      ]
     },
     "metadata": {},
     "output_type": "display_data"
    }
   ],
   "source": [
    "# Curve fitting lower\n",
    "\n",
    "In=1.03\n",
    "order=7\n",
    "relay_curve = get_relay_curve(In, order)\n",
    "\n",
    "xdata = np.array(i_l)\n",
    "ydata = np.array(t_l)\n",
    "\n",
    "xdata_mod = np.log10((xdata/In) -1)\n",
    "ydata_mod = np.log10(ydata)\n",
    "coeff = np.polyfit(xdata_mod, ydata_mod, order)[::-1]\n",
    "\n",
    "plt.plot(xdata, ydata, 'b-', label='data')\n",
    "x = np.geomspace(min(xdata), 30, num=100)\n",
    "plt.plot(x, relay_curve(x, *list(coeff)), 'r-', label='fit')\n",
    "plt.xscale('log')\n",
    "plt.yscale('log')\n",
    "plt.grid(True, which='major', alpha=1)\n",
    "plt.grid(True, which='minor', alpha=0.5)\n",
    "plt.legend()\n",
    "display(list(np.round(coeff,5)))"
   ]
  },
  {
   "cell_type": "code",
   "execution_count": 33,
   "id": "65195191",
   "metadata": {},
   "outputs": [
    {
     "name": "stdout",
     "output_type": "stream",
     "text": [
      "1.0362500000000001 1.305000000000004\n",
      "[1.305, 1.405, 1.505, 1.62375, 1.7425, 1.87375, 2.01125, 2.16125, 2.32375, 2.49875, 2.68625, 2.88625, 3.105, 3.33625, 3.58625, 3.855, 4.1425, 4.455, 4.78625, 5.14875, 5.53625, 5.94875, 6.38, 6.88, 7.38, 7.9425, 8.505, 9.1925, 9.88, 10.63, 11.38, 12.255, 13.1925, 14.13, 15.1925, 16.38, 17.5675, 18.88, 20.3175, 21.8175, 23.4425, 25.1925, 27.13, 29.13, 31.3175, 33.6925, 36.1925, 38.88, 41.8175, 44.9425] \n",
      "\n",
      "[6498.68736, 2938.43071, 1910.10088, 1212.66868, 857.64354, 623.38067, 456.71576, 337.73767, 260.18588, 200.36026, 154.43101, 119.26336, 94.00096, 75.45314, 60.48621, 48.48749, 38.90889, 32.20945, 26.86562, 22.33558, 18.59022, 15.54792, 13.51009, 11.61131, 10.08605, 8.7033, 7.64136, 6.80388, 6.10915, 5.65677, 5.29688, 4.93176, 4.59341, 4.29921, 4.00894, 3.72834, 3.48505, 3.25115, 3.02908, 2.82803, 2.63878, 2.46182, 2.29208, 2.14016, 1.99584, 1.86002, 1.73599, 1.62014, 1.51027, 1.40889] \n",
      "\n",
      "[1.03625, 1.11125, 1.18625, 1.27375, 1.36125, 1.46125, 1.56125, 1.67375, 1.7925, 1.92375, 2.055, 2.205, 2.36125, 2.53, 2.705, 2.89875, 3.105, 3.32375, 3.56125, 3.8175, 4.08625, 4.37375, 4.68625, 5.0175, 5.37375, 5.76125, 6.1675, 6.63, 7.0675, 7.5675, 8.13, 8.6925, 9.3175, 9.9425, 10.6925, 11.4425, 12.255, 13.13, 14.0675, 15.0675, 16.13, 17.255, 18.505, 19.8175, 21.1925, 22.6925, 24.3175, 26.0675, 27.88, 29.88] \n",
      "\n",
      "[4216.01657, 1024.72671, 490.90635, 289.6953, 186.52409, 128.90451, 96.93385, 71.83761, 53.47665, 41.6713, 33.35433, 26.29936, 20.87615, 16.53974, 13.76534, 11.50352, 9.62442, 8.06595, 6.74341, 5.71139, 5.00673, 4.38934, 3.84051, 3.36493, 2.94657, 2.61163, 2.37885, 2.15448, 1.98461, 1.87839, 1.77308, 1.68015, 1.58884, 1.50796, 1.42224, 1.34673, 1.2744, 1.2056, 1.14051, 1.07919, 1.02161, 0.96766, 0.9147, 0.86562, 0.82013, 0.77622, 0.7342, 0.69426, 0.65771, 0.62204] \n",
      "\n"
     ]
    }
   ],
   "source": [
    "print(np.min(i_l), np.min(i_u))\n",
    "print(json.dumps(list(np.round(i_u, 5))), '\\n')\n",
    "print(json.dumps(list(np.round(t_u, 5))), '\\n')\n",
    "print(json.dumps(list(np.round(i_l, 5))), '\\n')\n",
    "print(json.dumps(list(np.round(t_l, 5))), '\\n')"
   ]
  },
  {
   "cell_type": "code",
   "execution_count": null,
   "id": "fc41243c",
   "metadata": {},
   "outputs": [],
   "source": []
  }
 ],
 "metadata": {
  "kernelspec": {
   "display_name": "Python 3 (ipykernel)",
   "language": "python",
   "name": "python3"
  },
  "language_info": {
   "codemirror_mode": {
    "name": "ipython",
    "version": 3
   },
   "file_extension": ".py",
   "mimetype": "text/x-python",
   "name": "python",
   "nbconvert_exporter": "python",
   "pygments_lexer": "ipython3",
   "version": "3.10.12"
  }
 },
 "nbformat": 4,
 "nbformat_minor": 5
}
