{
 "cells": [
  {
   "cell_type": "code",
   "execution_count": 2,
   "id": "3e5690e9-162a-4932-b6fe-8c9ca9881b4b",
   "metadata": {
    "scrolled": true
   },
   "outputs": [],
   "source": [
    "filename = 'points_NSX_TMD_200_250_140.json'\n",
    "In = 112\n",
    "\n",
    "\n",
    "import numpy as np\n",
    "import json\n",
    "\n",
    "with open(filename) as f:\n",
    "    data = json.load(f)['Points']\n",
    "\n",
    "x = np.array([row['X'] for row in data])/In\n",
    "y = np.array([row['Y'] for row in data])\n",
    "points_n = np.argwhere(x == np.min(x))[0,0]\n",
    "i_l = x[3:points_n][::-1]\n",
    "t_l = y[3:points_n][::-1]\n",
    "i_u = x[points_n+3:]\n",
    "t_u = y[points_n+3:]\n",
    "\n",
    "l_filter = t_l <= 3600*2\n",
    "u_filter = t_u <= 3600*2\n",
    "i_l = i_l[l_filter]\n",
    "t_l = t_l[l_filter]\n",
    "i_u = i_u[u_filter]\n",
    "t_u = t_u[u_filter]\n",
    "\n",
    "def reduce(i, t):\n",
    "    i1 = i[0]\n",
    "    i2 = i[-1]\n",
    "    i_n = np.geomspace(i1,i2,num=50)\n",
    "    i_n_nd = np.tile(i_n, (len(i), 1))\n",
    "    i_nd = np.tile(i, (len(i_n), 1)).T\n",
    "    idx = (np.abs(i_n_nd - i_nd)).argmin(axis=0)\n",
    "    return i[idx], t[idx]\n",
    "\n",
    "i_u, t_u = reduce(i_u, t_u)\n",
    "i_l, t_l = reduce(i_l, t_l)"
   ]
  },
  {
   "cell_type": "code",
   "execution_count": 3,
   "id": "7cc30f7a-4cab-444a-ade1-937312bed659",
   "metadata": {
    "scrolled": true
   },
   "outputs": [
    {
     "name": "stdout",
     "output_type": "stream",
     "text": [
      "Using matplotlib backend: TkAgg\n"
     ]
    },
    {
     "data": {
      "text/plain": [
       "<matplotlib.legend.Legend at 0x7f42701bded0>"
      ]
     },
     "execution_count": 3,
     "metadata": {},
     "output_type": "execute_result"
    }
   ],
   "source": [
    "import matplotlib.pyplot as plt\n",
    "%matplotlib auto\n",
    "\n",
    "plt.plot(i_u, t_u, 'b-', label='upper')\n",
    "plt.plot(i_l, t_l, 'r-', label='lower')\n",
    "plt.xscale('log')\n",
    "plt.yscale('log')\n",
    "plt.xlim(1,100)\n",
    "plt.ylim(0.1,1e4)\n",
    "plt.grid(True, which='major', alpha=1)\n",
    "plt.grid(True, which='minor', alpha=0.5)\n",
    "plt.legend()"
   ]
  },
  {
   "cell_type": "code",
   "execution_count": 6,
   "id": "9cc076a0",
   "metadata": {},
   "outputs": [
    {
     "name": "stdout",
     "output_type": "stream",
     "text": [
      "1.3214285714285712 1.6339285714285712\n",
      "[1.63393, 1.72321, 1.8125, 1.91071, 2.01786, 2.125, 2.24107, 2.35714, 2.48214, 2.61607, 2.75893, 2.91071, 3.0625, 3.23214, 3.40179, 3.58929, 3.77679, 3.98214, 4.19643, 4.42857, 4.66071, 4.91071, 5.17857, 5.45536, 5.75, 6.0625, 6.38393, 6.73214, 7.09821, 7.47321, 7.875, 8.30357, 8.75, 9.19643, 9.73214, 10.26786, 10.80357, 11.33929, 11.96429, 12.58929, 13.30357, 14.01786, 14.82143, 15.53571, 16.42857, 17.32143, 18.21429, 19.19643, 20.26786, 21.33929] \n",
      "\n",
      "[6650.88944, 3914.53987, 2664.68369, 1978.62688, 1454.45198, 1122.96479, 898.14355, 726.48328, 584.73676, 468.91133, 385.70913, 320.11806, 268.21081, 222.32379, 191.08848, 164.28756, 142.9887, 125.4339, 110.17951, 96.4386, 85.88768, 76.30254, 67.65535, 60.12971, 53.71777, 48.00716, 43.27092, 39.22578, 35.56931, 32.34129, 29.35811, 26.61936, 24.16397, 22.04099, 19.85135, 17.9798, 16.36692, 14.96667, 13.55392, 12.33666, 11.14055, 10.11422, 9.12421, 8.36411, 7.54348, 6.84065, 6.23388, 5.6573, 5.11705, 4.65239] \n",
      "\n",
      "[1.32143, 1.38393, 1.45536, 1.52679, 1.60714, 1.6875, 1.76786, 1.85714, 1.94643, 2.04464, 2.14286, 2.25, 2.36607, 2.48214, 2.60714, 2.73214, 2.86607, 3.00893, 3.16071, 3.32143, 3.48214, 3.65179, 3.83929, 4.02679, 4.22321, 4.4375, 4.66071, 4.89286, 5.13393, 5.38393, 5.65179, 5.9375, 6.23214, 6.53571, 6.86607, 7.20536, 7.5625, 7.9375, 8.33036, 8.74107, 9.19643, 9.64286, 10.08929, 10.625, 11.16071, 11.69643, 12.23214, 12.85714, 13.48214, 14.19643] \n",
      "\n",
      "[6296.57399, 3152.14501, 2089.32901, 1412.42857, 1028.33625, 771.5687, 586.70395, 454.88215, 364.00949, 288.16933, 231.45732, 190.82514, 156.38844, 130.09383, 110.57839, 94.70876, 80.84215, 70.47401, 61.5054, 53.62132, 47.45413, 42.52433, 38.40696, 35.37073, 32.57756, 29.90839, 27.4777, 25.26505, 23.25116, 21.41805, 19.69521, 18.08709, 16.63566, 15.32374, 14.0727, 12.94787, 11.90998, 10.95492, 10.07799, 9.27416, 8.49539, 7.82757, 7.23903, 6.62025, 6.08103, 5.60802, 5.19061, 4.76255, 4.38768, 4.0134] \n",
      "\n"
     ]
    }
   ],
   "source": [
    "print(np.min(i_l), np.min(i_u))\n",
    "print(json.dumps(list(np.round(i_u, 5))), '\\n')\n",
    "print(json.dumps(list(np.round(t_u, 5))), '\\n')\n",
    "print(json.dumps(list(np.round(i_l, 5))), '\\n')\n",
    "print(json.dumps(list(np.round(t_l, 5))), '\\n')"
   ]
  },
  {
   "cell_type": "code",
   "execution_count": null,
   "id": "298aa48e",
   "metadata": {},
   "outputs": [],
   "source": []
  }
 ],
 "metadata": {
  "kernelspec": {
   "display_name": "Python 3 (ipykernel)",
   "language": "python",
   "name": "python3"
  },
  "language_info": {
   "codemirror_mode": {
    "name": "ipython",
    "version": 3
   },
   "file_extension": ".py",
   "mimetype": "text/x-python",
   "name": "python",
   "nbconvert_exporter": "python",
   "pygments_lexer": "ipython3",
   "version": "3.10.12"
  }
 },
 "nbformat": 4,
 "nbformat_minor": 5
}
