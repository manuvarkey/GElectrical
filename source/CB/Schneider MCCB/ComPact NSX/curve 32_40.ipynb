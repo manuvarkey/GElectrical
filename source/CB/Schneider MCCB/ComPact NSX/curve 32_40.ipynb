{
 "cells": [
  {
   "cell_type": "code",
   "execution_count": 4,
   "id": "3e5690e9-162a-4932-b6fe-8c9ca9881b4b",
   "metadata": {
    "scrolled": true
   },
   "outputs": [],
   "source": [
    "filename = 'points_NSX_TMD_32_40_28.json'\n",
    "In = 28\n",
    "\n",
    "\n",
    "import numpy as np\n",
    "import json\n",
    "\n",
    "def get_relay_curve(In=1, order=4, C=1):\n",
    "    def relay_curve(I, *ks):\n",
    "        t = 0\n",
    "        for order, k in enumerate(ks):\n",
    "            t += k*np.log10((I/In)-C)**order\n",
    "        return 10**t\n",
    "    return relay_curve\n",
    "\n",
    "with open(filename) as f:\n",
    "    data = json.load(f)['Points']\n",
    "\n",
    "x = np.array([row['X'] for row in data])/In\n",
    "y = np.array([row['Y'] for row in data])\n",
    "points_n = np.argwhere(x == np.min(x))[0,0]\n",
    "i_l = x[3:points_n][::-1]\n",
    "t_l = y[3:points_n][::-1]\n",
    "i_u = x[points_n+3:]\n",
    "t_u = y[points_n+3:]\n",
    "\n",
    "l_filter = t_l <= 3600\n",
    "u_filter = t_u <= 3600\n",
    "i_l = i_l[l_filter]\n",
    "t_l = t_l[l_filter]\n",
    "i_u = i_u[u_filter]\n",
    "t_u = t_u[u_filter]\n",
    "\n",
    "def reduce(i, t):\n",
    "    i1 = i[0]\n",
    "    i2 = i[-1]\n",
    "    i_n = np.geomspace(i1,i2,num=50)\n",
    "    i_n_nd = np.tile(i_n, (len(i), 1))\n",
    "    i_nd = np.tile(i, (len(i_n), 1)).T\n",
    "    idx = (np.abs(i_n_nd - i_nd)).argmin(axis=0)\n",
    "    return i[idx], t[idx]\n",
    "\n",
    "i_u, t_u = reduce(i_u, t_u)\n",
    "i_l, t_l = reduce(i_l, t_l)"
   ]
  },
  {
   "cell_type": "code",
   "execution_count": 16,
   "id": "7cc30f7a-4cab-444a-ade1-937312bed659",
   "metadata": {
    "scrolled": true
   },
   "outputs": [
    {
     "name": "stdout",
     "output_type": "stream",
     "text": [
      "Using matplotlib backend: TkAgg\n"
     ]
    },
    {
     "data": {
      "text/plain": [
       "<matplotlib.legend.Legend at 0x7fcfaf0fae30>"
      ]
     },
     "execution_count": 16,
     "metadata": {},
     "output_type": "execute_result"
    }
   ],
   "source": [
    "import matplotlib.pyplot as plt\n",
    "%matplotlib auto\n",
    "\n",
    "plt.plot(i_u, t_u, 'b-', label='upper')\n",
    "plt.plot(i_l, t_l, 'r-', label='lower')\n",
    "plt.xscale('log')\n",
    "plt.yscale('log')\n",
    "plt.xlim(1,100)\n",
    "plt.ylim(0.1,1e4)\n",
    "plt.grid(True, which='major', alpha=1)\n",
    "plt.grid(True, which='minor', alpha=0.5)\n",
    "plt.legend()"
   ]
  },
  {
   "cell_type": "code",
   "execution_count": 17,
   "id": "1ec151c7-279f-480a-a2f6-7a7931b9ec46",
   "metadata": {},
   "outputs": [
    {
     "data": {
      "text/plain": [
       "[1.7364, -1.63135, 0.15601, 0.44976, -0.22628, -0.34995, 0.06593, 0.10088]"
      ]
     },
     "metadata": {},
     "output_type": "display_data"
    }
   ],
   "source": [
    "# Curve fitting upper\n",
    "\n",
    "In = 1.28\n",
    "order=7\n",
    "relay_curve = get_relay_curve(In, order)\n",
    "\n",
    "xdata = np.array(i_u)\n",
    "ydata = np.array(t_u)\n",
    "\n",
    "xdata_mod = np.log10((xdata/In) -1)\n",
    "ydata_mod = np.log10(ydata)\n",
    "coeff = np.polyfit(xdata_mod, ydata_mod, order)[::-1]\n",
    "\n",
    "plt.plot(xdata, ydata, 'b-', label='data')\n",
    "x = np.geomspace(min(xdata), 25, num=100)\n",
    "plt.plot(x, relay_curve(x, *list(coeff)), 'r-', label='fit')\n",
    "plt.xscale('log')\n",
    "plt.yscale('log')\n",
    "plt.grid(True, which='major', alpha=1)\n",
    "plt.grid(True, which='minor', alpha=0.5)\n",
    "plt.legend()\n",
    "display(list(np.round(coeff,5)))"
   ]
  },
  {
   "cell_type": "code",
   "execution_count": 18,
   "id": "3ae4641f-8167-4577-b983-824127594809",
   "metadata": {},
   "outputs": [
    {
     "data": {
      "text/plain": [
       "[1.63813, -1.6424, -0.11415, 0.30778, 0.18756, -0.11111, -0.10452, -0.01042]"
      ]
     },
     "metadata": {},
     "output_type": "display_data"
    }
   ],
   "source": [
    "# Curve fitting lower\n",
    "\n",
    "In=1.03\n",
    "order=7\n",
    "relay_curve = get_relay_curve(In, order)\n",
    "\n",
    "xdata = np.array(i_l)\n",
    "ydata = np.array(t_l)\n",
    "\n",
    "xdata_mod = np.log10((xdata/In) -1)\n",
    "ydata_mod = np.log10(ydata)\n",
    "coeff = np.polyfit(xdata_mod, ydata_mod, order)[::-1]\n",
    "\n",
    "plt.plot(xdata, ydata, 'b-', label='data')\n",
    "x = np.geomspace(min(xdata), 15, num=100)\n",
    "plt.plot(x, relay_curve(x, *list(coeff)), 'r-', label='fit')\n",
    "plt.xscale('log')\n",
    "plt.yscale('log')\n",
    "plt.grid(True, which='major', alpha=1)\n",
    "plt.grid(True, which='minor', alpha=0.5)\n",
    "plt.legend()\n",
    "display(list(np.round(coeff,5)))"
   ]
  },
  {
   "cell_type": "code",
   "execution_count": 9,
   "id": "65195191",
   "metadata": {},
   "outputs": [
    {
     "name": "stdout",
     "output_type": "stream",
     "text": [
      "1.067857142857143 1.332142857142861\n",
      "[1.33214, 1.41071, 1.49286, 1.57857, 1.67143, 1.76786, 1.87143, 1.98214, 2.09643, 2.21786, 2.34643, 2.48571, 2.62857, 2.78214, 2.94643, 3.11786, 3.29643, 3.48929, 3.68214, 3.89643, 4.14643, 4.36071, 4.64643, 4.89643, 5.18214, 5.50357, 5.825, 6.14643, 6.50357, 6.89643, 7.28929, 7.71786, 8.18214, 8.64643, 9.14643, 9.68214, 10.25357, 10.825, 11.46786, 12.14643, 12.86071, 13.61071, 14.39643, 15.21786, 16.11071, 17.075, 18.03929, 19.11071, 20.21786, 21.39643] \n",
      "\n",
      "[3411.86231, 1413.58531, 806.79439, 520.91387, 362.14169, 253.48009, 189.87348, 145.87827, 112.8092, 90.48946, 73.94823, 60.14719, 50.54742, 42.79824, 36.1743, 30.7661, 26.8061, 23.28866, 20.38649, 17.72421, 15.48269, 13.90297, 12.33405, 11.31694, 10.31055, 9.34034, 8.50903, 7.79063, 7.10053, 6.44853, 5.88773, 5.36046, 4.87011, 4.44811, 4.05585, 3.69392, 3.36194, 3.07547, 2.79748, 2.54547, 2.31747, 2.1115, 1.92559, 1.75788, 1.60076, 1.45501, 1.32949, 1.20931, 1.10248, 1.00453] \n",
      "\n",
      "[1.06786, 1.125, 1.18571, 1.25, 1.31786, 1.38929, 1.46786, 1.54643, 1.62857, 1.71786, 1.81071, 1.91071, 2.01429, 2.12143, 2.23571, 2.35714, 2.48571, 2.62143, 2.76429, 2.91429, 3.07143, 3.23929, 3.41429, 3.61071, 3.78929, 4.00357, 4.21786, 4.43214, 4.68214, 4.93214, 5.21786, 5.50357, 5.78929, 6.11071, 6.43214, 6.78929, 7.14643, 7.53929, 7.96786, 8.39643, 8.825, 9.325, 9.825, 10.36071, 10.93214, 11.50357, 12.14643, 12.78929, 13.50357, 14.21786] \n",
      "\n",
      "[3465.03877, 1271.69749, 684.85521, 444.61999, 305.44479, 216.17252, 166.31372, 129.71641, 101.36028, 83.08104, 68.59743, 56.41004, 46.55166, 39.56371, 33.92577, 29.05561, 24.86852, 21.28172, 18.4551, 16.22004, 14.26696, 12.52786, 11.01675, 9.6096, 8.59051, 7.65843, 6.86851, 6.19339, 5.63554, 5.19106, 4.74931, 4.36581, 4.03041, 3.70072, 3.41291, 3.13371, 2.88998, 2.65576, 2.4337, 2.24043, 2.07102, 1.89839, 1.74807, 1.60747, 1.47679, 1.36261, 1.25047, 1.15266, 1.05785, 0.97514] \n",
      "\n"
     ]
    }
   ],
   "source": [
    "print(np.min(i_l), np.min(i_u))\n",
    "print(json.dumps(list(np.round(i_u, 5))), '\\n')\n",
    "print(json.dumps(list(np.round(t_u, 5))), '\\n')\n",
    "print(json.dumps(list(np.round(i_l, 5))), '\\n')\n",
    "print(json.dumps(list(np.round(t_l, 5))), '\\n')"
   ]
  },
  {
   "cell_type": "code",
   "execution_count": null,
   "id": "fc41243c",
   "metadata": {},
   "outputs": [],
   "source": []
  }
 ],
 "metadata": {
  "kernelspec": {
   "display_name": "Python 3 (ipykernel)",
   "language": "python",
   "name": "python3"
  },
  "language_info": {
   "codemirror_mode": {
    "name": "ipython",
    "version": 3
   },
   "file_extension": ".py",
   "mimetype": "text/x-python",
   "name": "python",
   "nbconvert_exporter": "python",
   "pygments_lexer": "ipython3",
   "version": "3.10.12"
  }
 },
 "nbformat": 4,
 "nbformat_minor": 5
}
