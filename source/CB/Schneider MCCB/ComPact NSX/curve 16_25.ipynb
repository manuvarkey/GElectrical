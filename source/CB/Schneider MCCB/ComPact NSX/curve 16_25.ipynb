{
 "cells": [
  {
   "cell_type": "code",
   "execution_count": 3,
   "id": "3e5690e9-162a-4932-b6fe-8c9ca9881b4b",
   "metadata": {
    "scrolled": true
   },
   "outputs": [],
   "source": [
    "filename = 'points_NSX_TMD_16_25_17_5.json'\n",
    "In = 17.5\n",
    "\n",
    "\n",
    "import numpy as np\n",
    "import json\n",
    "\n",
    "def get_relay_curve(In=1, order=4, C=1):\n",
    "    def relay_curve(I, *ks):\n",
    "        t = 0\n",
    "        for order, k in enumerate(ks):\n",
    "            t += k*np.log10((I/In)-C)**order\n",
    "        return 10**t\n",
    "    return relay_curve\n",
    "\n",
    "with open(filename) as f:\n",
    "    data = json.load(f)['Points']\n",
    "\n",
    "x = np.array([row['X'] for row in data])/In\n",
    "y = np.array([row['Y'] for row in data])\n",
    "points_n = np.argwhere(x == np.min(x))[0,0]\n",
    "i_l = x[3:points_n][::-1]\n",
    "t_l = y[3:points_n][::-1]\n",
    "i_u = x[points_n+3:]\n",
    "t_u = y[points_n+3:]\n",
    "\n",
    "l_filter = t_l <= 3600*2\n",
    "u_filter = t_u <= 3600*2\n",
    "i_l = i_l[l_filter]\n",
    "t_l = t_l[l_filter]\n",
    "i_u = i_u[u_filter]\n",
    "t_u = t_u[u_filter]\n",
    "\n",
    "def reduce(i, t):\n",
    "    i1 = i[0]\n",
    "    i2 = i[-1]\n",
    "    i_n = np.geomspace(i1,i2,num=50)\n",
    "    i_n_nd = np.tile(i_n, (len(i), 1))\n",
    "    i_nd = np.tile(i, (len(i_n), 1)).T\n",
    "    idx = (np.abs(i_n_nd - i_nd)).argmin(axis=0)\n",
    "    return i[idx], t[idx]\n",
    "\n",
    "i_u, t_u = reduce(i_u, t_u)\n",
    "i_l, t_l = reduce(i_l, t_l)"
   ]
  },
  {
   "cell_type": "code",
   "execution_count": 4,
   "id": "7cc30f7a-4cab-444a-ade1-937312bed659",
   "metadata": {
    "scrolled": true
   },
   "outputs": [
    {
     "name": "stdout",
     "output_type": "stream",
     "text": [
      "Using matplotlib backend: TkAgg\n"
     ]
    },
    {
     "data": {
      "text/plain": [
       "<matplotlib.legend.Legend at 0x7f0c9d65c1c0>"
      ]
     },
     "execution_count": 4,
     "metadata": {},
     "output_type": "execute_result"
    }
   ],
   "source": [
    "import matplotlib.pyplot as plt\n",
    "%matplotlib auto\n",
    "\n",
    "plt.plot(i_u, t_u, 'b-', label='upper')\n",
    "plt.plot(i_l, t_l, 'r-', label='lower')\n",
    "plt.xscale('log')\n",
    "plt.yscale('log')\n",
    "plt.xlim(1,100)\n",
    "plt.ylim(0.1,1e4)\n",
    "plt.grid(True, which='major', alpha=1)\n",
    "plt.grid(True, which='minor', alpha=0.5)\n",
    "plt.legend()"
   ]
  },
  {
   "cell_type": "code",
   "execution_count": 12,
   "id": "1ec151c7-279f-480a-a2f6-7a7931b9ec46",
   "metadata": {},
   "outputs": [
    {
     "data": {
      "text/plain": [
       "[1.79633, -1.55481, 0.06144, 0.12102, -0.26556, -0.02143, 0.06357]"
      ]
     },
     "metadata": {},
     "output_type": "display_data"
    }
   ],
   "source": [
    "# Curve fitting upper\n",
    "\n",
    "In = 1.28\n",
    "order=6\n",
    "relay_curve = get_relay_curve(In, order)\n",
    "\n",
    "xdata = np.array(i_u)\n",
    "ydata = np.array(t_u)\n",
    "\n",
    "xdata_mod = np.log10((xdata/In) -1)\n",
    "ydata_mod = np.log10(ydata)\n",
    "coeff = np.polyfit(xdata_mod, ydata_mod, order)[::-1]\n",
    "\n",
    "plt.plot(xdata, ydata, 'b-', label='data')\n",
    "x = np.geomspace(min(xdata), 25, num=100)\n",
    "plt.plot(x, relay_curve(x, *list(coeff)), 'r-', label='fit')\n",
    "plt.xscale('log')\n",
    "plt.yscale('log')\n",
    "plt.grid(True, which='major', alpha=1)\n",
    "plt.grid(True, which='minor', alpha=0.5)\n",
    "plt.legend()\n",
    "display(list(np.round(coeff,5)))"
   ]
  },
  {
   "cell_type": "code",
   "execution_count": 9,
   "id": "3ae4641f-8167-4577-b983-824127594809",
   "metadata": {},
   "outputs": [
    {
     "data": {
      "text/plain": [
       "[1.72193, -1.91199, 0.34472, 0.74576, -0.68031, -0.66469, 0.2778, 0.22385]"
      ]
     },
     "metadata": {},
     "output_type": "display_data"
    }
   ],
   "source": [
    "# Curve fitting lower\n",
    "\n",
    "In=1.03\n",
    "order=7\n",
    "relay_curve = get_relay_curve(In, order)\n",
    "\n",
    "xdata = np.array(i_l)\n",
    "ydata = np.array(t_l)\n",
    "\n",
    "xdata_mod = np.log10((xdata/In) -1)\n",
    "ydata_mod = np.log10(ydata)\n",
    "coeff = np.polyfit(xdata_mod, ydata_mod, order)[::-1]\n",
    "\n",
    "plt.plot(xdata, ydata, 'b-', label='data')\n",
    "x = np.geomspace(min(xdata), 15, num=100)\n",
    "plt.plot(x, relay_curve(x, *list(coeff)), 'r-', label='fit')\n",
    "plt.xscale('log')\n",
    "plt.yscale('log')\n",
    "plt.grid(True, which='major', alpha=1)\n",
    "plt.grid(True, which='minor', alpha=0.5)\n",
    "plt.legend()\n",
    "display(list(np.round(coeff,5)))"
   ]
  },
  {
   "cell_type": "code",
   "execution_count": 124,
   "id": "65195191",
   "metadata": {},
   "outputs": [
    {
     "name": "stdout",
     "output_type": "stream",
     "text": [
      "1.057142857142857 1.307142857142857\n",
      "[1.30714, 1.37857, 1.45, 1.52857, 1.61429, 1.7, 1.79286, 1.88571, 1.98571, 2.09286, 2.20714, 2.32857, 2.45, 2.58571, 2.72143, 2.87143, 3.02143, 3.18571, 3.35714, 3.54286, 3.72857, 3.92857, 4.14286, 4.36429, 4.6, 4.85, 5.10714, 5.38571, 5.67857, 5.97857, 6.3, 6.64286, 7.0, 7.35714, 7.78571, 8.21429, 8.64286, 9.07143, 9.57143, 10.07143, 10.64286, 11.21429, 11.85714, 12.42857, 13.14286, 13.85714, 14.57143, 15.35714, 16.21429, 17.07143] \n",
      "\n",
      "[6650.88944, 3914.53987, 2664.68369, 1978.62688, 1454.45198, 1122.96479, 898.14355, 726.48328, 584.73676, 468.91133, 385.70913, 320.11806, 268.21081, 222.32379, 191.08848, 164.28756, 142.9887, 125.4339, 110.17951, 96.4386, 85.88768, 76.30254, 67.65535, 60.12971, 53.71777, 48.00716, 43.27092, 39.22578, 35.56931, 32.34129, 29.35811, 26.61936, 24.16397, 22.04099, 19.85135, 17.9798, 16.36692, 14.96667, 13.55392, 12.33666, 11.14055, 10.11422, 9.12421, 8.36411, 7.54348, 6.84065, 6.23388, 5.6573, 5.11705, 4.65239] \n",
      "\n",
      "[1.05714, 1.10714, 1.16429, 1.22143, 1.28571, 1.35, 1.41429, 1.48571, 1.55714, 1.63571, 1.71429, 1.8, 1.89286, 1.98571, 2.08571, 2.18571, 2.29286, 2.40714, 2.52857, 2.65714, 2.78571, 2.92143, 3.07143, 3.22143, 3.37857, 3.55, 3.72857, 3.91429, 4.10714, 4.30714, 4.52143, 4.75, 4.98571, 5.22857, 5.49286, 5.76429, 6.05, 6.35, 6.66429, 6.99286, 7.35714, 7.71429, 8.07143, 8.5, 8.92857, 9.35714, 9.78571, 10.28571, 10.78571, 11.35714] \n",
      "\n",
      "[6296.57399, 3152.14501, 2089.32901, 1412.42857, 1028.33625, 771.5687, 586.70395, 454.88215, 364.00949, 288.16933, 231.45732, 190.82514, 156.38844, 130.09383, 110.57839, 94.70876, 80.84215, 70.47401, 61.5054, 53.62132, 47.45413, 42.52433, 38.40696, 35.37073, 32.57756, 29.90839, 27.4777, 25.26505, 23.25116, 21.41805, 19.69521, 18.08709, 16.63566, 15.32374, 14.0727, 12.94787, 11.90998, 10.95492, 10.07799, 9.27416, 8.49539, 7.82757, 7.23903, 6.62025, 6.08103, 5.60802, 5.19061, 4.76255, 4.38768, 4.0134] \n",
      "\n"
     ]
    }
   ],
   "source": [
    "print(np.min(i_l), np.min(i_u))\n",
    "print(json.dumps(list(np.round(i_u, 5))), '\\n')\n",
    "print(json.dumps(list(np.round(t_u, 5))), '\\n')\n",
    "print(json.dumps(list(np.round(i_l, 5))), '\\n')\n",
    "print(json.dumps(list(np.round(t_l, 5))), '\\n')"
   ]
  },
  {
   "cell_type": "code",
   "execution_count": null,
   "id": "fc41243c",
   "metadata": {},
   "outputs": [],
   "source": []
  }
 ],
 "metadata": {
  "kernelspec": {
   "display_name": "Python 3 (ipykernel)",
   "language": "python",
   "name": "python3"
  },
  "language_info": {
   "codemirror_mode": {
    "name": "ipython",
    "version": 3
   },
   "file_extension": ".py",
   "mimetype": "text/x-python",
   "name": "python",
   "nbconvert_exporter": "python",
   "pygments_lexer": "ipython3",
   "version": "3.10.12"
  }
 },
 "nbformat": 4,
 "nbformat_minor": 5
}
