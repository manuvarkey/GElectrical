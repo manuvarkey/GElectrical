{
 "cells": [
  {
   "cell_type": "code",
   "execution_count": 77,
   "id": "8a525776",
   "metadata": {},
   "outputs": [],
   "source": [
    "from cmath import rect\n",
    "from math import pi"
   ]
  },
  {
   "cell_type": "code",
   "execution_count": 159,
   "id": "04286ee3",
   "metadata": {},
   "outputs": [
    {
     "data": {
      "text/plain": [
       "0.5291609105169689"
      ]
     },
     "metadata": {},
     "output_type": "display_data"
    }
   ],
   "source": [
    "# 25 sq.mm\n",
    "\n",
    "v = complex(415,0)\n",
    "# Line parameters\n",
    "r = 1/54/25*(1+(1/234.5)*50)*100\n",
    "x = 0.17*0.1\n",
    "z_line = complex(r ,x)\n",
    "# Load parameters\n",
    "z_load = (v**2)/complex(8000, 6000)\n",
    "i = v/(1.732*(z_line+z_load))\n",
    "# Voltage drop in line\n",
    "v_drop_ln = i*z_line\n",
    "v_drop_ll_perc = abs(1.732*v_drop_ln/v*100)\n",
    "\n",
    "display(v_drop_ll_perc)"
   ]
  },
  {
   "cell_type": "code",
   "execution_count": 160,
   "id": "25ef37f6",
   "metadata": {},
   "outputs": [
    {
     "data": {
      "text/plain": [
       "0.32544788674701725"
      ]
     },
     "metadata": {},
     "output_type": "display_data"
    }
   ],
   "source": [
    "# 4 sq.mm\n",
    "\n",
    "v = complex(415,0)\n",
    "# Line parameters\n",
    "r = 1/54/4*(1+(1/234.5)*50)*100\n",
    "x = 0.17*0.1\n",
    "z_line = complex(r ,x)\n",
    "# Load parameters\n",
    "z_load = (v**2)/complex(800, 600)\n",
    "i = v/(1.732*(z_line+z_load))\n",
    "# Voltage drop in line\n",
    "v_drop_ln = i*z_line\n",
    "v_drop_ll_perc = abs(1.732*v_drop_ln/v*100)\n",
    "\n",
    "display(v_drop_ll_perc)"
   ]
  },
  {
   "cell_type": "code",
   "execution_count": 161,
   "id": "01386ac7",
   "metadata": {},
   "outputs": [
    {
     "data": {
      "text/plain": [
       "1.3807352407333646"
      ]
     },
     "metadata": {},
     "output_type": "display_data"
    }
   ],
   "source": [
    "# 16 sq.mm Al UG XLPE\n",
    "\n",
    "v = complex(415,0)\n",
    "# Line parameters\n",
    "r = 1/34/16*(1+(1/228)*70)*100\n",
    "x = 0.08*0.1\n",
    "z_line = complex(r ,x)\n",
    "# Load parameters\n",
    "z_load = (v**2)/complex(8000, 6000)\n",
    "i = v/(1.732*(z_line+z_load))\n",
    "# Voltage drop in line\n",
    "v_drop_ln = i*z_line\n",
    "v_drop_ll_perc = abs(1.732*v_drop_ln/v*100)\n",
    "\n",
    "display(v_drop_ll_perc)"
   ]
  },
  {
   "cell_type": "code",
   "execution_count": 122,
   "id": "28ac4057",
   "metadata": {},
   "outputs": [],
   "source": [
    "import pandapower as pp\n",
    "net = pp.from_json('network.json')\n",
    "pp.runpp(net)\n",
    "comp_volt = lambda b : rect(net.res_bus['vm_pu'][b], net.res_bus['va_degree'][b]*pi/180)"
   ]
  },
  {
   "cell_type": "code",
   "execution_count": 127,
   "id": "340db770",
   "metadata": {
    "scrolled": true
   },
   "outputs": [
    {
     "data": {
      "text/html": [
       "<div>\n",
       "<style scoped>\n",
       "    .dataframe tbody tr th:only-of-type {\n",
       "        vertical-align: middle;\n",
       "    }\n",
       "\n",
       "    .dataframe tbody tr th {\n",
       "        vertical-align: top;\n",
       "    }\n",
       "\n",
       "    .dataframe thead th {\n",
       "        text-align: right;\n",
       "    }\n",
       "</style>\n",
       "<table border=\"1\" class=\"dataframe\">\n",
       "  <thead>\n",
       "    <tr style=\"text-align: right;\">\n",
       "      <th></th>\n",
       "      <th>name</th>\n",
       "      <th>bus</th>\n",
       "      <th>p_mw</th>\n",
       "      <th>q_mvar</th>\n",
       "      <th>const_z_percent</th>\n",
       "      <th>const_i_percent</th>\n",
       "      <th>sn_mva</th>\n",
       "      <th>scaling</th>\n",
       "      <th>in_service</th>\n",
       "      <th>type</th>\n",
       "    </tr>\n",
       "  </thead>\n",
       "  <tbody>\n",
       "    <tr>\n",
       "      <th>0</th>\n",
       "      <td>X1</td>\n",
       "      <td>2</td>\n",
       "      <td>0.0080</td>\n",
       "      <td>0.0060</td>\n",
       "      <td>0.0</td>\n",
       "      <td>0.0</td>\n",
       "      <td>0.010</td>\n",
       "      <td>1.0</td>\n",
       "      <td>True</td>\n",
       "      <td>wye</td>\n",
       "    </tr>\n",
       "    <tr>\n",
       "      <th>1</th>\n",
       "      <td>X3</td>\n",
       "      <td>5</td>\n",
       "      <td>0.0080</td>\n",
       "      <td>0.0060</td>\n",
       "      <td>0.0</td>\n",
       "      <td>0.0</td>\n",
       "      <td>0.010</td>\n",
       "      <td>1.0</td>\n",
       "      <td>True</td>\n",
       "      <td>wye</td>\n",
       "    </tr>\n",
       "    <tr>\n",
       "      <th>2</th>\n",
       "      <td>X2</td>\n",
       "      <td>1</td>\n",
       "      <td>0.0008</td>\n",
       "      <td>0.0006</td>\n",
       "      <td>0.0</td>\n",
       "      <td>0.0</td>\n",
       "      <td>0.001</td>\n",
       "      <td>1.0</td>\n",
       "      <td>True</td>\n",
       "      <td>wye</td>\n",
       "    </tr>\n",
       "  </tbody>\n",
       "</table>\n",
       "</div>"
      ],
      "text/plain": [
       "  name  bus    p_mw  q_mvar  const_z_percent  const_i_percent  sn_mva  \\\n",
       "0   X1    2  0.0080  0.0060              0.0              0.0   0.010   \n",
       "1   X3    5  0.0080  0.0060              0.0              0.0   0.010   \n",
       "2   X2    1  0.0008  0.0006              0.0              0.0   0.001   \n",
       "\n",
       "   scaling  in_service type  \n",
       "0      1.0        True  wye  \n",
       "1      1.0        True  wye  \n",
       "2      1.0        True  wye  "
      ]
     },
     "execution_count": 127,
     "metadata": {},
     "output_type": "execute_result"
    }
   ],
   "source": [
    "net.load"
   ]
  },
  {
   "cell_type": "code",
   "execution_count": 124,
   "id": "32a2b5b6",
   "metadata": {},
   "outputs": [
    {
     "data": {
      "text/html": [
       "<div>\n",
       "<style scoped>\n",
       "    .dataframe tbody tr th:only-of-type {\n",
       "        vertical-align: middle;\n",
       "    }\n",
       "\n",
       "    .dataframe tbody tr th {\n",
       "        vertical-align: top;\n",
       "    }\n",
       "\n",
       "    .dataframe thead th {\n",
       "        text-align: right;\n",
       "    }\n",
       "</style>\n",
       "<table border=\"1\" class=\"dataframe\">\n",
       "  <thead>\n",
       "    <tr style=\"text-align: right;\">\n",
       "      <th></th>\n",
       "      <th>vm_pu</th>\n",
       "      <th>va_degree</th>\n",
       "      <th>p_mw</th>\n",
       "      <th>q_mvar</th>\n",
       "    </tr>\n",
       "  </thead>\n",
       "  <tbody>\n",
       "    <tr>\n",
       "      <th>0</th>\n",
       "      <td>1.000000</td>\n",
       "      <td>0.000000</td>\n",
       "      <td>-0.025855</td>\n",
       "      <td>-0.019224</td>\n",
       "    </tr>\n",
       "    <tr>\n",
       "      <th>1</th>\n",
       "      <td>0.997323</td>\n",
       "      <td>0.107884</td>\n",
       "      <td>0.000800</td>\n",
       "      <td>0.000600</td>\n",
       "    </tr>\n",
       "    <tr>\n",
       "      <th>2</th>\n",
       "      <td>0.995206</td>\n",
       "      <td>0.134850</td>\n",
       "      <td>0.008000</td>\n",
       "      <td>0.006000</td>\n",
       "    </tr>\n",
       "    <tr>\n",
       "      <th>3</th>\n",
       "      <td>0.997323</td>\n",
       "      <td>0.107884</td>\n",
       "      <td>0.000800</td>\n",
       "      <td>0.000600</td>\n",
       "    </tr>\n",
       "    <tr>\n",
       "      <th>4</th>\n",
       "      <td>0.995206</td>\n",
       "      <td>0.134850</td>\n",
       "      <td>0.008000</td>\n",
       "      <td>0.006000</td>\n",
       "    </tr>\n",
       "    <tr>\n",
       "      <th>5</th>\n",
       "      <td>0.988392</td>\n",
       "      <td>0.463716</td>\n",
       "      <td>0.008000</td>\n",
       "      <td>0.006000</td>\n",
       "    </tr>\n",
       "  </tbody>\n",
       "</table>\n",
       "</div>"
      ],
      "text/plain": [
       "      vm_pu  va_degree      p_mw    q_mvar\n",
       "0  1.000000   0.000000 -0.025855 -0.019224\n",
       "1  0.997323   0.107884  0.000800  0.000600\n",
       "2  0.995206   0.134850  0.008000  0.006000\n",
       "3  0.997323   0.107884  0.000800  0.000600\n",
       "4  0.995206   0.134850  0.008000  0.006000\n",
       "5  0.988392   0.463716  0.008000  0.006000"
      ]
     },
     "execution_count": 124,
     "metadata": {},
     "output_type": "execute_result"
    }
   ],
   "source": [
    "net.res_bus"
   ]
  },
  {
   "cell_type": "code",
   "execution_count": 130,
   "id": "d07dc0b5",
   "metadata": {},
   "outputs": [
    {
     "data": {
      "text/plain": [
       "0.5338014092529345"
      ]
     },
     "metadata": {},
     "output_type": "display_data"
    },
    {
     "data": {
      "text/plain": [
       "0.3271683936976548"
      ]
     },
     "metadata": {},
     "output_type": "display_data"
    },
    {
     "data": {
      "text/plain": [
       "1.4123959816929648"
      ]
     },
     "metadata": {},
     "output_type": "display_data"
    }
   ],
   "source": [
    "display(abs(comp_volt(2) - comp_volt(0))*100)\n",
    "display(abs(comp_volt(1) - comp_volt(0))*100)\n",
    "display(abs(comp_volt(5) - comp_volt(0))*100)"
   ]
  },
  {
   "cell_type": "code",
   "execution_count": null,
   "id": "ff5a74c8",
   "metadata": {},
   "outputs": [],
   "source": []
  },
  {
   "cell_type": "code",
   "execution_count": null,
   "id": "9ae21fc2",
   "metadata": {},
   "outputs": [],
   "source": [
    "# Single phase lines"
   ]
  },
  {
   "cell_type": "code",
   "execution_count": null,
   "id": "1d74f6e2",
   "metadata": {},
   "outputs": [],
   "source": []
  },
  {
   "cell_type": "code",
   "execution_count": 141,
   "id": "6bd5e25c",
   "metadata": {},
   "outputs": [
    {
     "data": {
      "text/plain": [
       "3.0764780509249237"
      ]
     },
     "metadata": {},
     "output_type": "display_data"
    }
   ],
   "source": [
    "# 25 sq.mm\n",
    "\n",
    "v = complex(240,0)\n",
    "# Line parameters\n",
    "r = 1/54/25*(1+.004*50)*100\n",
    "x = 0.17*0.1\n",
    "z_line = complex(2*r ,2*x)\n",
    "# Load parameters\n",
    "z_load = (v**2)/complex(8000, 6000)\n",
    "i = v/(z_line+z_load)\n",
    "# Voltage drop in line\n",
    "v_drop_ln = i*z_line\n",
    "v_drop_ll_perc = abs(v_drop_ln/v*100)\n",
    "\n",
    "display(v_drop_ll_perc)"
   ]
  },
  {
   "cell_type": "code",
   "execution_count": 146,
   "id": "a128f79e",
   "metadata": {},
   "outputs": [
    {
     "data": {
      "text/plain": [
       "1.9011144992941607"
      ]
     },
     "metadata": {},
     "output_type": "display_data"
    }
   ],
   "source": [
    "# 4 sq.mm\n",
    "\n",
    "v = complex(240,0)\n",
    "# Line parameters\n",
    "r = 1/54/4*(1+.004*50)*100\n",
    "x = 0.17*0.1\n",
    "z_line = complex(2*r ,2*x)\n",
    "# Load parameters\n",
    "z_load = (v**2)/complex(800, 600)\n",
    "i = v/(z_line+z_load)\n",
    "# Voltage drop in line\n",
    "v_drop_ln = i*z_line\n",
    "v_drop_ll_perc = abs(v_drop_ln/v*100)\n",
    "\n",
    "display(v_drop_ll_perc)"
   ]
  },
  {
   "cell_type": "code",
   "execution_count": 147,
   "id": "242d5b09",
   "metadata": {},
   "outputs": [],
   "source": [
    "import pandapower as pp\n",
    "net2 = pp.from_json('network.json')\n",
    "pp.pf.runpp_3ph.runpp_3ph(net2)\n",
    "comp_volt_a = lambda b : rect(net2.res_bus_3ph['vm_a_pu'][b], net2.res_bus_3ph['va_a_degree'][b]*pi/180)"
   ]
  },
  {
   "cell_type": "code",
   "execution_count": 148,
   "id": "5c3f5c67",
   "metadata": {},
   "outputs": [
    {
     "data": {
      "text/html": [
       "<div>\n",
       "<style scoped>\n",
       "    .dataframe tbody tr th:only-of-type {\n",
       "        vertical-align: middle;\n",
       "    }\n",
       "\n",
       "    .dataframe tbody tr th {\n",
       "        vertical-align: top;\n",
       "    }\n",
       "\n",
       "    .dataframe thead th {\n",
       "        text-align: right;\n",
       "    }\n",
       "</style>\n",
       "<table border=\"1\" class=\"dataframe\">\n",
       "  <thead>\n",
       "    <tr style=\"text-align: right;\">\n",
       "      <th></th>\n",
       "      <th>name</th>\n",
       "      <th>bus</th>\n",
       "      <th>p_a_mw</th>\n",
       "      <th>q_a_mvar</th>\n",
       "      <th>p_b_mw</th>\n",
       "      <th>q_b_mvar</th>\n",
       "      <th>p_c_mw</th>\n",
       "      <th>q_c_mvar</th>\n",
       "      <th>sn_mva</th>\n",
       "      <th>scaling</th>\n",
       "      <th>in_service</th>\n",
       "      <th>type</th>\n",
       "    </tr>\n",
       "  </thead>\n",
       "  <tbody>\n",
       "    <tr>\n",
       "      <th>0</th>\n",
       "      <td>X5</td>\n",
       "      <td>3</td>\n",
       "      <td>0.0008</td>\n",
       "      <td>0.0006</td>\n",
       "      <td>0.0</td>\n",
       "      <td>0.0</td>\n",
       "      <td>0.0</td>\n",
       "      <td>0.0</td>\n",
       "      <td>0.001</td>\n",
       "      <td>1.0</td>\n",
       "      <td>True</td>\n",
       "      <td>wye</td>\n",
       "    </tr>\n",
       "    <tr>\n",
       "      <th>1</th>\n",
       "      <td>X4</td>\n",
       "      <td>4</td>\n",
       "      <td>0.0080</td>\n",
       "      <td>0.0060</td>\n",
       "      <td>0.0</td>\n",
       "      <td>0.0</td>\n",
       "      <td>0.0</td>\n",
       "      <td>0.0</td>\n",
       "      <td>0.010</td>\n",
       "      <td>1.0</td>\n",
       "      <td>True</td>\n",
       "      <td>wye</td>\n",
       "    </tr>\n",
       "  </tbody>\n",
       "</table>\n",
       "</div>"
      ],
      "text/plain": [
       "  name  bus  p_a_mw  q_a_mvar  p_b_mw  q_b_mvar  p_c_mw  q_c_mvar  sn_mva  \\\n",
       "0   X5    3  0.0008    0.0006     0.0       0.0     0.0       0.0   0.001   \n",
       "1   X4    4  0.0080    0.0060     0.0       0.0     0.0       0.0   0.010   \n",
       "\n",
       "   scaling  in_service type  \n",
       "0      1.0        True  wye  \n",
       "1      1.0        True  wye  "
      ]
     },
     "execution_count": 148,
     "metadata": {},
     "output_type": "execute_result"
    }
   ],
   "source": [
    "net2.asymmetric_load"
   ]
  },
  {
   "cell_type": "code",
   "execution_count": 149,
   "id": "65d716df",
   "metadata": {},
   "outputs": [
    {
     "data": {
      "text/html": [
       "<div>\n",
       "<style scoped>\n",
       "    .dataframe tbody tr th:only-of-type {\n",
       "        vertical-align: middle;\n",
       "    }\n",
       "\n",
       "    .dataframe tbody tr th {\n",
       "        vertical-align: top;\n",
       "    }\n",
       "\n",
       "    .dataframe thead th {\n",
       "        text-align: right;\n",
       "    }\n",
       "</style>\n",
       "<table border=\"1\" class=\"dataframe\">\n",
       "  <thead>\n",
       "    <tr style=\"text-align: right;\">\n",
       "      <th></th>\n",
       "      <th>vm_a_pu</th>\n",
       "      <th>va_a_degree</th>\n",
       "      <th>vm_b_pu</th>\n",
       "      <th>va_b_degree</th>\n",
       "      <th>vm_c_pu</th>\n",
       "      <th>va_c_degree</th>\n",
       "      <th>p_a_mw</th>\n",
       "      <th>q_a_mvar</th>\n",
       "      <th>p_b_mw</th>\n",
       "      <th>q_b_mvar</th>\n",
       "      <th>p_c_mw</th>\n",
       "      <th>q_c_mvar</th>\n",
       "      <th>unbalance_percent</th>\n",
       "    </tr>\n",
       "  </thead>\n",
       "  <tbody>\n",
       "    <tr>\n",
       "      <th>0</th>\n",
       "      <td>0.998331</td>\n",
       "      <td>-0.106641</td>\n",
       "      <td>1.000836</td>\n",
       "      <td>-119.946816</td>\n",
       "      <td>1.000836</td>\n",
       "      <td>120.053189</td>\n",
       "      <td>-0.014821</td>\n",
       "      <td>-0.010868</td>\n",
       "      <td>-0.005666</td>\n",
       "      <td>-0.004205</td>\n",
       "      <td>-0.005666</td>\n",
       "      <td>-0.004205</td>\n",
       "      <td>0.124955</td>\n",
       "    </tr>\n",
       "    <tr>\n",
       "      <th>1</th>\n",
       "      <td>0.995647</td>\n",
       "      <td>0.002305</td>\n",
       "      <td>0.998151</td>\n",
       "      <td>-119.839534</td>\n",
       "      <td>0.998172</td>\n",
       "      <td>120.160617</td>\n",
       "      <td>0.000267</td>\n",
       "      <td>0.000200</td>\n",
       "      <td>0.000267</td>\n",
       "      <td>0.000200</td>\n",
       "      <td>0.000267</td>\n",
       "      <td>0.000200</td>\n",
       "      <td>0.125026</td>\n",
       "    </tr>\n",
       "    <tr>\n",
       "      <th>2</th>\n",
       "      <td>0.993523</td>\n",
       "      <td>0.029769</td>\n",
       "      <td>0.996032</td>\n",
       "      <td>-119.813018</td>\n",
       "      <td>0.996066</td>\n",
       "      <td>120.187534</td>\n",
       "      <td>0.002667</td>\n",
       "      <td>0.002000</td>\n",
       "      <td>0.002667</td>\n",
       "      <td>0.002000</td>\n",
       "      <td>0.002667</td>\n",
       "      <td>0.002000</td>\n",
       "      <td>0.125215</td>\n",
       "    </tr>\n",
       "    <tr>\n",
       "      <th>3</th>\n",
       "      <td>0.981961</td>\n",
       "      <td>0.551884</td>\n",
       "      <td>1.000079</td>\n",
       "      <td>-120.516035</td>\n",
       "      <td>1.009852</td>\n",
       "      <td>120.295441</td>\n",
       "      <td>0.000800</td>\n",
       "      <td>0.000600</td>\n",
       "      <td>0.000000</td>\n",
       "      <td>0.000000</td>\n",
       "      <td>0.000000</td>\n",
       "      <td>0.000000</td>\n",
       "      <td>0.370738</td>\n",
       "    </tr>\n",
       "    <tr>\n",
       "      <th>4</th>\n",
       "      <td>0.968696</td>\n",
       "      <td>0.725811</td>\n",
       "      <td>1.002265</td>\n",
       "      <td>-120.884120</td>\n",
       "      <td>1.014430</td>\n",
       "      <td>120.579531</td>\n",
       "      <td>0.008000</td>\n",
       "      <td>0.006000</td>\n",
       "      <td>0.000000</td>\n",
       "      <td>0.000000</td>\n",
       "      <td>0.000000</td>\n",
       "      <td>0.000000</td>\n",
       "      <td>0.599086</td>\n",
       "    </tr>\n",
       "    <tr>\n",
       "      <th>5</th>\n",
       "      <td>0.986695</td>\n",
       "      <td>0.361670</td>\n",
       "      <td>0.989196</td>\n",
       "      <td>-119.485737</td>\n",
       "      <td>0.989288</td>\n",
       "      <td>120.514958</td>\n",
       "      <td>0.002667</td>\n",
       "      <td>0.002000</td>\n",
       "      <td>0.002667</td>\n",
       "      <td>0.002000</td>\n",
       "      <td>0.002667</td>\n",
       "      <td>0.002000</td>\n",
       "      <td>0.125366</td>\n",
       "    </tr>\n",
       "  </tbody>\n",
       "</table>\n",
       "</div>"
      ],
      "text/plain": [
       "    vm_a_pu  va_a_degree   vm_b_pu  va_b_degree   vm_c_pu  va_c_degree  \\\n",
       "0  0.998331    -0.106641  1.000836  -119.946816  1.000836   120.053189   \n",
       "1  0.995647     0.002305  0.998151  -119.839534  0.998172   120.160617   \n",
       "2  0.993523     0.029769  0.996032  -119.813018  0.996066   120.187534   \n",
       "3  0.981961     0.551884  1.000079  -120.516035  1.009852   120.295441   \n",
       "4  0.968696     0.725811  1.002265  -120.884120  1.014430   120.579531   \n",
       "5  0.986695     0.361670  0.989196  -119.485737  0.989288   120.514958   \n",
       "\n",
       "     p_a_mw  q_a_mvar    p_b_mw  q_b_mvar    p_c_mw  q_c_mvar  \\\n",
       "0 -0.014821 -0.010868 -0.005666 -0.004205 -0.005666 -0.004205   \n",
       "1  0.000267  0.000200  0.000267  0.000200  0.000267  0.000200   \n",
       "2  0.002667  0.002000  0.002667  0.002000  0.002667  0.002000   \n",
       "3  0.000800  0.000600  0.000000  0.000000  0.000000  0.000000   \n",
       "4  0.008000  0.006000  0.000000  0.000000  0.000000  0.000000   \n",
       "5  0.002667  0.002000  0.002667  0.002000  0.002667  0.002000   \n",
       "\n",
       "   unbalance_percent  \n",
       "0           0.124955  \n",
       "1           0.125026  \n",
       "2           0.125215  \n",
       "3           0.370738  \n",
       "4           0.599086  \n",
       "5           0.125366  "
      ]
     },
     "execution_count": 149,
     "metadata": {},
     "output_type": "execute_result"
    }
   ],
   "source": [
    "net2.res_bus_3ph"
   ]
  },
  {
   "cell_type": "code",
   "execution_count": 150,
   "id": "5b57011c",
   "metadata": {},
   "outputs": [
    {
     "data": {
      "text/plain": [
       "3.289868502614464"
      ]
     },
     "metadata": {},
     "output_type": "display_data"
    },
    {
     "data": {
      "text/plain": [
       "1.9936608398471685"
      ]
     },
     "metadata": {},
     "output_type": "display_data"
    }
   ],
   "source": [
    "display(abs(comp_volt_a(4) - comp_volt_a(0))*100)\n",
    "display(abs(comp_volt_a(3) - comp_volt_a(0))*100)"
   ]
  },
  {
   "cell_type": "code",
   "execution_count": null,
   "id": "a915d52d",
   "metadata": {},
   "outputs": [],
   "source": []
  }
 ],
 "metadata": {
  "kernelspec": {
   "display_name": "Python 3 (ipykernel)",
   "language": "python",
   "name": "python3"
  },
  "language_info": {
   "codemirror_mode": {
    "name": "ipython",
    "version": 3
   },
   "file_extension": ".py",
   "mimetype": "text/x-python",
   "name": "python",
   "nbconvert_exporter": "python",
   "pygments_lexer": "ipython3",
   "version": "3.10.6"
  }
 },
 "nbformat": 4,
 "nbformat_minor": 5
}
